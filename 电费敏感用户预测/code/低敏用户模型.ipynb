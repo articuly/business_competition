{
 "cells": [
  {
   "cell_type": "markdown",
   "metadata": {},
   "source": [
    "## 模型构建流程：\n",
    "\n",
    "* （一）数据简介：电力用户的95598工单数据、电量电费营销数据等为基础，综合分析电费敏感客户特征，建立客户电费敏感度模型，对电费敏感用户的敏感程度进行量化评判，帮助供电企业快速、准确的识别电费敏感客户，从而对应的提供有针对性的电费、电量提醒等精细化用电服务。\n",
    "\n",
    "\n",
    "* 感谢大连理工大学团队的优胜方案\n",
    "\n",
    "<img src=\"../img/3.png\" style=\"width:1000px;height:480px;float:left\">\n",
    "\n",
    "\n",
    "* （二）模型架构：<img src=\"../img/2.png\" style=\"width:1000px;height:580px;float:left\">"
   ]
  },
  {
   "cell_type": "markdown",
   "metadata": {},
   "source": [
    "基于敏感程度不同，构建二种模型！\n",
    "\n",
    "<img src=\"../img/4.png\" style=\"width:1000px;height:480px;float:left\">"
   ]
  },
  {
   "cell_type": "markdown",
   "metadata": {},
   "source": [
    "特征工程：\n",
    "\n",
    "<img src=\"../img/11.png\" style=\"width:800px;height:300px;float:left\">\n"
   ]
  },
  {
   "cell_type": "code",
   "execution_count": 4,
   "metadata": {},
   "outputs": [],
   "source": [
    "import pandas as pd\n",
    "import numpy as np\n",
    "import csv\n",
    "import re\n",
    "import os\n",
    "import jieba\n",
    "import pickle\n",
    "from numpy import log\n",
    "from sklearn.preprocessing import MinMaxScaler\n",
    "from sklearn.preprocessing import LabelEncoder"
   ]
  },
  {
   "cell_type": "markdown",
   "metadata": {},
   "source": [
    "<img src=\"../img/5.png\" style=\"width:1000px;height:680px;float:left\">"
   ]
  },
  {
   "cell_type": "markdown",
   "metadata": {},
   "source": [
    "选择3个主要信息表：\n",
    "\n",
    "* 01工单信息 \n",
    "\n",
    "* 02通话信息\n",
    "\n",
    "* 09应收电费信息"
   ]
  },
  {
   "cell_type": "code",
   "execution_count": 5,
   "metadata": {},
   "outputs": [],
   "source": [
    "data_path = '../rawdata/'\n",
    "#95598 train \n",
    "file_jobinfo_train = '01_arc_s_95598_wkst_train.zip' \n",
    "# 95598 test\n",
    "file_jobinfo_test = '01_arc_s_95598_wkst_test.zip'    \n",
    "# 通话信息记录\n",
    "file_comm = '02_s_comm_rec.zip'\n",
    "# 应收电费信息表 train\n",
    "file_flow_train = '09_arc_a_rcvbl_flow.zip'\n",
    "# 应收电费信息表 test\n",
    "file_flow_test = '09_arc_a_rcvbl_flow_test.zip'\n",
    "# 训练集正例\n",
    "file_label = 'train_label.zip'\n",
    "# 测试集\n",
    "file_test = 'test_to_predict.zip'"
   ]
  },
  {
   "cell_type": "code",
   "execution_count": 6,
   "metadata": {},
   "outputs": [
    {
     "data": {
      "text/html": [
       "<div>\n",
       "<style scoped>\n",
       "    .dataframe tbody tr th:only-of-type {\n",
       "        vertical-align: middle;\n",
       "    }\n",
       "\n",
       "    .dataframe tbody tr th {\n",
       "        vertical-align: top;\n",
       "    }\n",
       "\n",
       "    .dataframe thead th {\n",
       "        text-align: right;\n",
       "    }\n",
       "</style>\n",
       "<table border=\"1\" class=\"dataframe\">\n",
       "  <thead>\n",
       "    <tr style=\"text-align: right;\">\n",
       "      <th></th>\n",
       "      <th>APP_NO</th>\n",
       "      <th>ID</th>\n",
       "      <th>BUSI_TYPE_CODE</th>\n",
       "      <th>URBAN_RURAL_FLAG</th>\n",
       "      <th>ORG_NO</th>\n",
       "      <th>HANDLE_TIME</th>\n",
       "      <th>ACCEPT_CONTENT</th>\n",
       "      <th>HANDLE_OPINION</th>\n",
       "      <th>CALLING_NO</th>\n",
       "      <th>ELEC_TYPE</th>\n",
       "      <th>CUST_NO</th>\n",
       "      <th>PROV_ORG_NO</th>\n",
       "      <th>CITY_ORG_NO</th>\n",
       "    </tr>\n",
       "  </thead>\n",
       "  <tbody>\n",
       "    <tr>\n",
       "      <th>0</th>\n",
       "      <td>2015101280016584</td>\n",
       "      <td>1000000527201688</td>\n",
       "      <td>1</td>\n",
       "      <td>2.0</td>\n",
       "      <td>3340501</td>\n",
       "      <td>2015/10/12 7:27:08</td>\n",
       "      <td>【一户无电】非居民客户报修一户无电，经指导客户检查，无法判断设备故障及其资产归属，请现场查处。</td>\n",
       "      <td>NaN</td>\n",
       "      <td>1625671.0</td>\n",
       "      <td>405.0</td>\n",
       "      <td>5115500151</td>\n",
       "      <td>33101</td>\n",
       "      <td>33405</td>\n",
       "    </tr>\n",
       "    <tr>\n",
       "      <th>1</th>\n",
       "      <td>2015101280016722</td>\n",
       "      <td>1000000527203612</td>\n",
       "      <td>3</td>\n",
       "      <td>2.0</td>\n",
       "      <td>3341020</td>\n",
       "      <td>2015/10/12 7:31:50</td>\n",
       "      <td>【银行代扣】客户咨询银行代扣事宜</td>\n",
       "      <td>NaN</td>\n",
       "      <td>1196922.0</td>\n",
       "      <td>202.0</td>\n",
       "      <td>5720017228</td>\n",
       "      <td>33101</td>\n",
       "      <td>33410</td>\n",
       "    </tr>\n",
       "    <tr>\n",
       "      <th>2</th>\n",
       "      <td>2015101280016734</td>\n",
       "      <td>1000000527203685</td>\n",
       "      <td>3</td>\n",
       "      <td>2.0</td>\n",
       "      <td>3340670</td>\n",
       "      <td>2015/10/12 7:32:03</td>\n",
       "      <td>【查询电费】客户查询本月电费金额，已告知。</td>\n",
       "      <td>NaN</td>\n",
       "      <td>1378624.0</td>\n",
       "      <td>201.0</td>\n",
       "      <td>6911007734</td>\n",
       "      <td>33101</td>\n",
       "      <td>33406</td>\n",
       "    </tr>\n",
       "    <tr>\n",
       "      <th>3</th>\n",
       "      <td>2015101280019989</td>\n",
       "      <td>1000000527220221</td>\n",
       "      <td>3</td>\n",
       "      <td>1.0</td>\n",
       "      <td>3340401</td>\n",
       "      <td>2015/10/12 8:04:42</td>\n",
       "      <td>【查询电费】客户查询本月电费金额。</td>\n",
       "      <td>NaN</td>\n",
       "      <td>1149071.0</td>\n",
       "      <td>202.0</td>\n",
       "      <td>4400013050</td>\n",
       "      <td>33101</td>\n",
       "      <td>33404</td>\n",
       "    </tr>\n",
       "    <tr>\n",
       "      <th>4</th>\n",
       "      <td>2015101280020073</td>\n",
       "      <td>1000000527220797</td>\n",
       "      <td>3</td>\n",
       "      <td>1.0</td>\n",
       "      <td>334010101</td>\n",
       "      <td>2015/10/12 8:06:05</td>\n",
       "      <td>【查询电费】客户查询电费是否欠费，已告知。</td>\n",
       "      <td>NaN</td>\n",
       "      <td>1052032.0</td>\n",
       "      <td>100.0</td>\n",
       "      <td>6023002461</td>\n",
       "      <td>33101</td>\n",
       "      <td>33401</td>\n",
       "    </tr>\n",
       "  </tbody>\n",
       "</table>\n",
       "</div>"
      ],
      "text/plain": [
       "             APP_NO                ID  BUSI_TYPE_CODE  URBAN_RURAL_FLAG  \\\n",
       "0  2015101280016584  1000000527201688               1               2.0   \n",
       "1  2015101280016722  1000000527203612               3               2.0   \n",
       "2  2015101280016734  1000000527203685               3               2.0   \n",
       "3  2015101280019989  1000000527220221               3               1.0   \n",
       "4  2015101280020073  1000000527220797               3               1.0   \n",
       "\n",
       "      ORG_NO         HANDLE_TIME  \\\n",
       "0    3340501  2015/10/12 7:27:08   \n",
       "1    3341020  2015/10/12 7:31:50   \n",
       "2    3340670  2015/10/12 7:32:03   \n",
       "3    3340401  2015/10/12 8:04:42   \n",
       "4  334010101  2015/10/12 8:06:05   \n",
       "\n",
       "                                    ACCEPT_CONTENT HANDLE_OPINION  CALLING_NO  \\\n",
       "0  【一户无电】非居民客户报修一户无电，经指导客户检查，无法判断设备故障及其资产归属，请现场查处。            NaN   1625671.0   \n",
       "1                                 【银行代扣】客户咨询银行代扣事宜            NaN   1196922.0   \n",
       "2                            【查询电费】客户查询本月电费金额，已告知。            NaN   1378624.0   \n",
       "3                                【查询电费】客户查询本月电费金额。            NaN   1149071.0   \n",
       "4                            【查询电费】客户查询电费是否欠费，已告知。            NaN   1052032.0   \n",
       "\n",
       "   ELEC_TYPE     CUST_NO  PROV_ORG_NO  CITY_ORG_NO  \n",
       "0      405.0  5115500151        33101        33405  \n",
       "1      202.0  5720017228        33101        33410  \n",
       "2      201.0  6911007734        33101        33406  \n",
       "3      202.0  4400013050        33101        33404  \n",
       "4      100.0  6023002461        33101        33401  "
      ]
     },
     "execution_count": 6,
     "metadata": {},
     "output_type": "execute_result"
    }
   ],
   "source": [
    "train_info = pd.read_csv(data_path + 'processed_' + file_jobinfo_train, sep='\\t', encoding='utf-8', quoting=csv.QUOTE_NONE)\n",
    "# 过滤CUST_NO为空的用户\n",
    "train_info = train_info.loc[~train_info.CUST_NO.isnull()]\n",
    "train_info['CUST_NO'] = train_info.CUST_NO.astype(np.int64)\n",
    "train_info.head()"
   ]
  },
  {
   "cell_type": "markdown",
   "metadata": {},
   "source": [
    "重做数据索引，统计单数"
   ]
  },
  {
   "cell_type": "code",
   "execution_count": 7,
   "metadata": {},
   "outputs": [
    {
     "data": {
      "text/html": [
       "<div>\n",
       "<style scoped>\n",
       "    .dataframe tbody tr th:only-of-type {\n",
       "        vertical-align: middle;\n",
       "    }\n",
       "\n",
       "    .dataframe tbody tr th {\n",
       "        vertical-align: top;\n",
       "    }\n",
       "\n",
       "    .dataframe thead th {\n",
       "        text-align: right;\n",
       "    }\n",
       "</style>\n",
       "<table border=\"1\" class=\"dataframe\">\n",
       "  <thead>\n",
       "    <tr style=\"text-align: right;\">\n",
       "      <th></th>\n",
       "      <th>index</th>\n",
       "      <th>CUST_NO</th>\n",
       "    </tr>\n",
       "  </thead>\n",
       "  <tbody>\n",
       "    <tr>\n",
       "      <th>0</th>\n",
       "      <td>6010619615</td>\n",
       "      <td>114</td>\n",
       "    </tr>\n",
       "    <tr>\n",
       "      <th>1</th>\n",
       "      <td>6010052424</td>\n",
       "      <td>83</td>\n",
       "    </tr>\n",
       "    <tr>\n",
       "      <th>2</th>\n",
       "      <td>5312672270</td>\n",
       "      <td>71</td>\n",
       "    </tr>\n",
       "    <tr>\n",
       "      <th>3</th>\n",
       "      <td>5513201131</td>\n",
       "      <td>71</td>\n",
       "    </tr>\n",
       "    <tr>\n",
       "      <th>4</th>\n",
       "      <td>3717006696</td>\n",
       "      <td>71</td>\n",
       "    </tr>\n",
       "  </tbody>\n",
       "</table>\n",
       "</div>"
      ],
      "text/plain": [
       "        index  CUST_NO\n",
       "0  6010619615      114\n",
       "1  6010052424       83\n",
       "2  5312672270       71\n",
       "3  5513201131       71\n",
       "4  3717006696       71"
      ]
     },
     "execution_count": 7,
     "metadata": {},
     "output_type": "execute_result"
    }
   ],
   "source": [
    "train = train_info.CUST_NO.value_counts().to_frame().reset_index()\n",
    "train.head()"
   ]
  },
  {
   "cell_type": "code",
   "execution_count": 8,
   "metadata": {},
   "outputs": [
    {
     "data": {
      "text/html": [
       "<div>\n",
       "<style scoped>\n",
       "    .dataframe tbody tr th:only-of-type {\n",
       "        vertical-align: middle;\n",
       "    }\n",
       "\n",
       "    .dataframe tbody tr th {\n",
       "        vertical-align: top;\n",
       "    }\n",
       "\n",
       "    .dataframe thead th {\n",
       "        text-align: right;\n",
       "    }\n",
       "</style>\n",
       "<table border=\"1\" class=\"dataframe\">\n",
       "  <thead>\n",
       "    <tr style=\"text-align: right;\">\n",
       "      <th></th>\n",
       "      <th>CUST_NO</th>\n",
       "      <th>counts_of_jobinfo</th>\n",
       "    </tr>\n",
       "  </thead>\n",
       "  <tbody>\n",
       "    <tr>\n",
       "      <th>0</th>\n",
       "      <td>6010619615</td>\n",
       "      <td>114</td>\n",
       "    </tr>\n",
       "    <tr>\n",
       "      <th>1</th>\n",
       "      <td>6010052424</td>\n",
       "      <td>83</td>\n",
       "    </tr>\n",
       "    <tr>\n",
       "      <th>2</th>\n",
       "      <td>5312672270</td>\n",
       "      <td>71</td>\n",
       "    </tr>\n",
       "    <tr>\n",
       "      <th>3</th>\n",
       "      <td>5513201131</td>\n",
       "      <td>71</td>\n",
       "    </tr>\n",
       "    <tr>\n",
       "      <th>4</th>\n",
       "      <td>3717006696</td>\n",
       "      <td>71</td>\n",
       "    </tr>\n",
       "  </tbody>\n",
       "</table>\n",
       "</div>"
      ],
      "text/plain": [
       "      CUST_NO  counts_of_jobinfo\n",
       "0  6010619615                114\n",
       "1  6010052424                 83\n",
       "2  5312672270                 71\n",
       "3  5513201131                 71\n",
       "4  3717006696                 71"
      ]
     },
     "execution_count": 8,
     "metadata": {},
     "output_type": "execute_result"
    }
   ],
   "source": [
    "train.columns = ['CUST_NO', 'counts_of_jobinfo']\n",
    "train.head()"
   ]
  },
  {
   "cell_type": "markdown",
   "metadata": {},
   "source": [
    "加入label"
   ]
  },
  {
   "cell_type": "code",
   "execution_count": 9,
   "metadata": {},
   "outputs": [
    {
     "data": {
      "text/html": [
       "<div>\n",
       "<style scoped>\n",
       "    .dataframe tbody tr th:only-of-type {\n",
       "        vertical-align: middle;\n",
       "    }\n",
       "\n",
       "    .dataframe tbody tr th {\n",
       "        vertical-align: top;\n",
       "    }\n",
       "\n",
       "    .dataframe thead th {\n",
       "        text-align: right;\n",
       "    }\n",
       "</style>\n",
       "<table border=\"1\" class=\"dataframe\">\n",
       "  <thead>\n",
       "    <tr style=\"text-align: right;\">\n",
       "      <th></th>\n",
       "      <th>CUST_NO</th>\n",
       "      <th>label</th>\n",
       "      <th>counts_of_jobinfo</th>\n",
       "    </tr>\n",
       "  </thead>\n",
       "  <tbody>\n",
       "    <tr>\n",
       "      <th>0</th>\n",
       "      <td>6010619615</td>\n",
       "      <td>0</td>\n",
       "      <td>114</td>\n",
       "    </tr>\n",
       "    <tr>\n",
       "      <th>1</th>\n",
       "      <td>6010052424</td>\n",
       "      <td>1</td>\n",
       "      <td>83</td>\n",
       "    </tr>\n",
       "    <tr>\n",
       "      <th>2</th>\n",
       "      <td>5312672270</td>\n",
       "      <td>1</td>\n",
       "      <td>71</td>\n",
       "    </tr>\n",
       "    <tr>\n",
       "      <th>3</th>\n",
       "      <td>5513201131</td>\n",
       "      <td>1</td>\n",
       "      <td>71</td>\n",
       "    </tr>\n",
       "    <tr>\n",
       "      <th>4</th>\n",
       "      <td>3717006696</td>\n",
       "      <td>1</td>\n",
       "      <td>71</td>\n",
       "    </tr>\n",
       "  </tbody>\n",
       "</table>\n",
       "</div>"
      ],
      "text/plain": [
       "      CUST_NO  label  counts_of_jobinfo\n",
       "0  6010619615      0                114\n",
       "1  6010052424      1                 83\n",
       "2  5312672270      1                 71\n",
       "3  5513201131      1                 71\n",
       "4  3717006696      1                 71"
      ]
     },
     "execution_count": 9,
     "metadata": {},
     "output_type": "execute_result"
    }
   ],
   "source": [
    "temp = pd.read_csv(data_path + file_label, header=None)\n",
    "temp.columns = ['CUST_NO']\n",
    "train['label'] = 0\n",
    "train.loc[train.CUST_NO.isin(temp.CUST_NO), 'label'] = 1\n",
    "train = train[['CUST_NO', 'label', 'counts_of_jobinfo']]\n",
    "train.head()"
   ]
  },
  {
   "cell_type": "markdown",
   "metadata": {},
   "source": [
    "测试集做法相同，只是标签用-1来表示"
   ]
  },
  {
   "cell_type": "code",
   "execution_count": 10,
   "metadata": {},
   "outputs": [
    {
     "data": {
      "text/html": [
       "<div>\n",
       "<style scoped>\n",
       "    .dataframe tbody tr th:only-of-type {\n",
       "        vertical-align: middle;\n",
       "    }\n",
       "\n",
       "    .dataframe tbody tr th {\n",
       "        vertical-align: top;\n",
       "    }\n",
       "\n",
       "    .dataframe thead th {\n",
       "        text-align: right;\n",
       "    }\n",
       "</style>\n",
       "<table border=\"1\" class=\"dataframe\">\n",
       "  <thead>\n",
       "    <tr style=\"text-align: right;\">\n",
       "      <th></th>\n",
       "      <th>CUST_NO</th>\n",
       "      <th>label</th>\n",
       "      <th>counts_of_jobinfo</th>\n",
       "    </tr>\n",
       "  </thead>\n",
       "  <tbody>\n",
       "    <tr>\n",
       "      <th>0</th>\n",
       "      <td>6010316261</td>\n",
       "      <td>-1</td>\n",
       "      <td>10</td>\n",
       "    </tr>\n",
       "    <tr>\n",
       "      <th>1</th>\n",
       "      <td>6010165238</td>\n",
       "      <td>-1</td>\n",
       "      <td>9</td>\n",
       "    </tr>\n",
       "    <tr>\n",
       "      <th>2</th>\n",
       "      <td>5312739722</td>\n",
       "      <td>-1</td>\n",
       "      <td>8</td>\n",
       "    </tr>\n",
       "    <tr>\n",
       "      <th>3</th>\n",
       "      <td>5001827156</td>\n",
       "      <td>-1</td>\n",
       "      <td>8</td>\n",
       "    </tr>\n",
       "    <tr>\n",
       "      <th>4</th>\n",
       "      <td>6010601157</td>\n",
       "      <td>-1</td>\n",
       "      <td>8</td>\n",
       "    </tr>\n",
       "  </tbody>\n",
       "</table>\n",
       "</div>"
      ],
      "text/plain": [
       "      CUST_NO  label  counts_of_jobinfo\n",
       "0  6010316261     -1                 10\n",
       "1  6010165238     -1                  9\n",
       "2  5312739722     -1                  8\n",
       "3  5001827156     -1                  8\n",
       "4  6010601157     -1                  8"
      ]
     },
     "execution_count": 10,
     "metadata": {},
     "output_type": "execute_result"
    }
   ],
   "source": [
    "test_info = pd.read_csv(data_path + 'processed_' + file_jobinfo_test, sep='\\t', encoding='utf-8', quoting=csv.QUOTE_NONE)\n",
    "test = test_info.CUST_NO.value_counts().to_frame().reset_index()\n",
    "test.columns = ['CUST_NO', 'counts_of_jobinfo']\n",
    "test['label'] = -1\n",
    "test = test[['CUST_NO', 'label', 'counts_of_jobinfo']]\n",
    "test.head()"
   ]
  },
  {
   "cell_type": "markdown",
   "metadata": {},
   "source": [
    "分两条路走，先来观察只有一条工单记录的"
   ]
  },
  {
   "cell_type": "code",
   "execution_count": 11,
   "metadata": {},
   "outputs": [],
   "source": [
    "df = train.append(test).copy()\n",
    "del temp, train, test"
   ]
  },
  {
   "cell_type": "code",
   "execution_count": 12,
   "metadata": {},
   "outputs": [
    {
     "name": "stdout",
     "output_type": "stream",
     "text": [
      "原始数据中的低敏感度用户分布情况如下：\n",
      "训练集： 401626\n",
      "正样本: 13139\n",
      "负样本: 388487\n",
      "-----------------------\n",
      "测试集： 327437\n"
     ]
    }
   ],
   "source": [
    "df = df.loc[df.counts_of_jobinfo == 1].copy()\n",
    "df.reset_index(drop=True, inplace=True)\n",
    "train = df.loc[df.label != -1]\n",
    "test = df.loc[df.label == -1]\n",
    "print('原始数据中的低敏感度用户分布情况如下：')\n",
    "print('训练集：',train.shape[0])\n",
    "print('正样本:',train.loc[train.label == 1].shape[0])\n",
    "print('负样本:',train.loc[train.label == 0].shape[0])\n",
    "print('-----------------------')\n",
    "print('测试集：',test.shape[0])\n",
    "df.drop(['counts_of_jobinfo'], axis=1, inplace=True)"
   ]
  },
  {
   "cell_type": "markdown",
   "metadata": {},
   "source": [
    "在总表中进行筛选，留下只有一条工单记录的数据"
   ]
  },
  {
   "cell_type": "code",
   "execution_count": 13,
   "metadata": {},
   "outputs": [
    {
     "data": {
      "text/html": [
       "<div>\n",
       "<style scoped>\n",
       "    .dataframe tbody tr th:only-of-type {\n",
       "        vertical-align: middle;\n",
       "    }\n",
       "\n",
       "    .dataframe tbody tr th {\n",
       "        vertical-align: top;\n",
       "    }\n",
       "\n",
       "    .dataframe thead th {\n",
       "        text-align: right;\n",
       "    }\n",
       "</style>\n",
       "<table border=\"1\" class=\"dataframe\">\n",
       "  <thead>\n",
       "    <tr style=\"text-align: right;\">\n",
       "      <th></th>\n",
       "      <th>APP_NO</th>\n",
       "      <th>ID</th>\n",
       "      <th>BUSI_TYPE_CODE</th>\n",
       "      <th>URBAN_RURAL_FLAG</th>\n",
       "      <th>ORG_NO</th>\n",
       "      <th>HANDLE_TIME</th>\n",
       "      <th>ACCEPT_CONTENT</th>\n",
       "      <th>HANDLE_OPINION</th>\n",
       "      <th>CALLING_NO</th>\n",
       "      <th>ELEC_TYPE</th>\n",
       "      <th>CUST_NO</th>\n",
       "      <th>PROV_ORG_NO</th>\n",
       "      <th>CITY_ORG_NO</th>\n",
       "      <th>label</th>\n",
       "    </tr>\n",
       "  </thead>\n",
       "  <tbody>\n",
       "    <tr>\n",
       "      <th>0</th>\n",
       "      <td>2015101280016722</td>\n",
       "      <td>1000000527203612</td>\n",
       "      <td>3</td>\n",
       "      <td>2.0</td>\n",
       "      <td>3341020</td>\n",
       "      <td>2015/10/12 7:31:50</td>\n",
       "      <td>【银行代扣】客户咨询银行代扣事宜</td>\n",
       "      <td>NaN</td>\n",
       "      <td>1196922.0</td>\n",
       "      <td>202.0</td>\n",
       "      <td>5720017228</td>\n",
       "      <td>33101</td>\n",
       "      <td>33410</td>\n",
       "      <td>0</td>\n",
       "    </tr>\n",
       "    <tr>\n",
       "      <th>1</th>\n",
       "      <td>2015101280031680</td>\n",
       "      <td>1000000527300870</td>\n",
       "      <td>3</td>\n",
       "      <td>2.0</td>\n",
       "      <td>334020106</td>\n",
       "      <td>2015/10/12 9:11:37</td>\n",
       "      <td>【咨询总户号】通过地址（户名）查询户号信息。</td>\n",
       "      <td>NaN</td>\n",
       "      <td>1073266.0</td>\n",
       "      <td>202.0</td>\n",
       "      <td>1658156188</td>\n",
       "      <td>33101</td>\n",
       "      <td>33402</td>\n",
       "      <td>0</td>\n",
       "    </tr>\n",
       "    <tr>\n",
       "      <th>2</th>\n",
       "      <td>2015101280032529</td>\n",
       "      <td>1000000527305820</td>\n",
       "      <td>3</td>\n",
       "      <td>2.0</td>\n",
       "      <td>334104001</td>\n",
       "      <td>2015/10/12 9:14:58</td>\n",
       "      <td>【咨询总户号】中介查户号</td>\n",
       "      <td>NaN</td>\n",
       "      <td>1058596.0</td>\n",
       "      <td>201.0</td>\n",
       "      <td>5812203341</td>\n",
       "      <td>33101</td>\n",
       "      <td>33410</td>\n",
       "      <td>0</td>\n",
       "    </tr>\n",
       "    <tr>\n",
       "      <th>3</th>\n",
       "      <td>2015101280017707</td>\n",
       "      <td>1000000527205167</td>\n",
       "      <td>3</td>\n",
       "      <td>2.0</td>\n",
       "      <td>334101001</td>\n",
       "      <td>2015/10/12 7:34:54</td>\n",
       "      <td>【停电信息】咨询计划停电信息，未查到</td>\n",
       "      <td>NaN</td>\n",
       "      <td>1581993.0</td>\n",
       "      <td>201.0</td>\n",
       "      <td>2311017103</td>\n",
       "      <td>33101</td>\n",
       "      <td>33410</td>\n",
       "      <td>0</td>\n",
       "    </tr>\n",
       "    <tr>\n",
       "      <th>4</th>\n",
       "      <td>2015101280020177</td>\n",
       "      <td>1000000527221507</td>\n",
       "      <td>3</td>\n",
       "      <td>1.0</td>\n",
       "      <td>3340201</td>\n",
       "      <td>2015/10/12 8:07:49</td>\n",
       "      <td>【停电信息】咨询计划停电信息</td>\n",
       "      <td>NaN</td>\n",
       "      <td>1468213.0</td>\n",
       "      <td>NaN</td>\n",
       "      <td>1610543109</td>\n",
       "      <td>33101</td>\n",
       "      <td>33402</td>\n",
       "      <td>0</td>\n",
       "    </tr>\n",
       "  </tbody>\n",
       "</table>\n",
       "</div>"
      ],
      "text/plain": [
       "             APP_NO                ID  BUSI_TYPE_CODE  URBAN_RURAL_FLAG  \\\n",
       "0  2015101280016722  1000000527203612               3               2.0   \n",
       "1  2015101280031680  1000000527300870               3               2.0   \n",
       "2  2015101280032529  1000000527305820               3               2.0   \n",
       "3  2015101280017707  1000000527205167               3               2.0   \n",
       "4  2015101280020177  1000000527221507               3               1.0   \n",
       "\n",
       "      ORG_NO         HANDLE_TIME          ACCEPT_CONTENT HANDLE_OPINION  \\\n",
       "0    3341020  2015/10/12 7:31:50        【银行代扣】客户咨询银行代扣事宜            NaN   \n",
       "1  334020106  2015/10/12 9:11:37  【咨询总户号】通过地址（户名）查询户号信息。            NaN   \n",
       "2  334104001  2015/10/12 9:14:58            【咨询总户号】中介查户号            NaN   \n",
       "3  334101001  2015/10/12 7:34:54      【停电信息】咨询计划停电信息，未查到            NaN   \n",
       "4    3340201  2015/10/12 8:07:49          【停电信息】咨询计划停电信息            NaN   \n",
       "\n",
       "   CALLING_NO  ELEC_TYPE     CUST_NO  PROV_ORG_NO  CITY_ORG_NO  label  \n",
       "0   1196922.0      202.0  5720017228        33101        33410      0  \n",
       "1   1073266.0      202.0  1658156188        33101        33402      0  \n",
       "2   1058596.0      201.0  5812203341        33101        33410      0  \n",
       "3   1581993.0      201.0  2311017103        33101        33410      0  \n",
       "4   1468213.0        NaN  1610543109        33101        33402      0  "
      ]
     },
     "execution_count": 13,
     "metadata": {},
     "output_type": "execute_result"
    }
   ],
   "source": [
    "jobinfo = train_info.append(test_info).copy()\n",
    "jobinfo = jobinfo.loc[jobinfo.CUST_NO.isin(df.CUST_NO)].copy()\n",
    "jobinfo.reset_index(drop=True, inplace=True)\n",
    "jobinfo = jobinfo.merge(df[['CUST_NO', 'label']], on='CUST_NO', how='left')\n",
    "jobinfo.head()"
   ]
  },
  {
   "cell_type": "markdown",
   "metadata": {},
   "source": [
    "加载通话数据"
   ]
  },
  {
   "cell_type": "code",
   "execution_count": 14,
   "metadata": {},
   "outputs": [
    {
     "name": "stdout",
     "output_type": "stream",
     "text": [
      "总数据量： (1593088, 8)\n",
      "去掉重复无用的： (1584351, 8)\n"
     ]
    },
    {
     "data": {
      "text/html": [
       "<div>\n",
       "<style scoped>\n",
       "    .dataframe tbody tr th:only-of-type {\n",
       "        vertical-align: middle;\n",
       "    }\n",
       "\n",
       "    .dataframe tbody tr th {\n",
       "        vertical-align: top;\n",
       "    }\n",
       "\n",
       "    .dataframe thead th {\n",
       "        text-align: right;\n",
       "    }\n",
       "</style>\n",
       "<table border=\"1\" class=\"dataframe\">\n",
       "  <thead>\n",
       "    <tr style=\"text-align: right;\">\n",
       "      <th></th>\n",
       "      <th>APP_NO</th>\n",
       "      <th>HANDLE_ID</th>\n",
       "      <th>COMM_NO</th>\n",
       "      <th>REQ_BEGIN_DATE</th>\n",
       "      <th>REQ_FINISH_DATE</th>\n",
       "      <th>ORG_NO</th>\n",
       "      <th>BUSI_TYPE_CODE</th>\n",
       "      <th>WKST_BUSI_TYPE_CODE</th>\n",
       "    </tr>\n",
       "  </thead>\n",
       "  <tbody>\n",
       "    <tr>\n",
       "      <th>0</th>\n",
       "      <td>1000000619515828</td>\n",
       "      <td>NaN</td>\n",
       "      <td>1818693</td>\n",
       "      <td>2015/12/24 12:37:29</td>\n",
       "      <td>2015/12/24 12:39:39</td>\n",
       "      <td>13406</td>\n",
       "      <td>999.0</td>\n",
       "      <td>3</td>\n",
       "    </tr>\n",
       "    <tr>\n",
       "      <th>1</th>\n",
       "      <td>1000000267085485</td>\n",
       "      <td>NaN</td>\n",
       "      <td>1344134</td>\n",
       "      <td>2015/2/4 14:10:21</td>\n",
       "      <td>2015/2/4 14:11:49</td>\n",
       "      <td>15421</td>\n",
       "      <td>999.0</td>\n",
       "      <td>3</td>\n",
       "    </tr>\n",
       "    <tr>\n",
       "      <th>2</th>\n",
       "      <td>1000000241905876</td>\n",
       "      <td>NaN</td>\n",
       "      <td>1475375</td>\n",
       "      <td>2015/1/11 11:18:29</td>\n",
       "      <td>2015/1/11 11:23:20</td>\n",
       "      <td>1542316</td>\n",
       "      <td>999.0</td>\n",
       "      <td>15</td>\n",
       "    </tr>\n",
       "    <tr>\n",
       "      <th>3</th>\n",
       "      <td>1000000243214087</td>\n",
       "      <td>NaN</td>\n",
       "      <td>1634225</td>\n",
       "      <td>2015/1/12 16:50:25</td>\n",
       "      <td>2015/1/12 16:51:33</td>\n",
       "      <td>15404</td>\n",
       "      <td>3.0</td>\n",
       "      <td>3</td>\n",
       "    </tr>\n",
       "    <tr>\n",
       "      <th>4</th>\n",
       "      <td>1000000289386345</td>\n",
       "      <td>NaN</td>\n",
       "      <td>1316851</td>\n",
       "      <td>2015/3/3 21:51:13</td>\n",
       "      <td>2015/3/3 21:52:12</td>\n",
       "      <td>15404</td>\n",
       "      <td>999.0</td>\n",
       "      <td>3</td>\n",
       "    </tr>\n",
       "  </tbody>\n",
       "</table>\n",
       "</div>"
      ],
      "text/plain": [
       "             APP_NO  HANDLE_ID  COMM_NO       REQ_BEGIN_DATE  \\\n",
       "0  1000000619515828        NaN  1818693  2015/12/24 12:37:29   \n",
       "1  1000000267085485        NaN  1344134    2015/2/4 14:10:21   \n",
       "2  1000000241905876        NaN  1475375   2015/1/11 11:18:29   \n",
       "3  1000000243214087        NaN  1634225   2015/1/12 16:50:25   \n",
       "4  1000000289386345        NaN  1316851    2015/3/3 21:51:13   \n",
       "\n",
       "       REQ_FINISH_DATE   ORG_NO  BUSI_TYPE_CODE  WKST_BUSI_TYPE_CODE  \n",
       "0  2015/12/24 12:39:39    13406           999.0                    3  \n",
       "1    2015/2/4 14:11:49    15421           999.0                    3  \n",
       "2   2015/1/11 11:23:20  1542316           999.0                   15  \n",
       "3   2015/1/12 16:51:33    15404             3.0                    3  \n",
       "4    2015/3/3 21:52:12    15404           999.0                    3  "
      ]
     },
     "execution_count": 14,
     "metadata": {},
     "output_type": "execute_result"
    }
   ],
   "source": [
    "comm = pd.read_csv(data_path + file_comm, sep='\\t')\n",
    "print ('总数据量：',comm.shape)\n",
    "comm.drop_duplicates(inplace=True)\n",
    "print ('去掉重复无用的：',comm.shape)\n",
    "comm.head()"
   ]
  },
  {
   "cell_type": "markdown",
   "metadata": {},
   "source": [
    "过滤掉没出现在jobinfo中的数据"
   ]
  },
  {
   "cell_type": "code",
   "execution_count": 15,
   "metadata": {},
   "outputs": [
    {
     "name": "stdout",
     "output_type": "stream",
     "text": [
      "可用数据量： (726248, 9)\n"
     ]
    }
   ],
   "source": [
    "comm = comm.loc[comm.APP_NO.isin(jobinfo.ID)]\n",
    "comm = comm.rename(columns={'APP_NO':'ID'})\n",
    "comm = comm.merge(jobinfo[['ID', 'CUST_NO']], on='ID', how='left')\n",
    "print ('可用数据量：',comm.shape)"
   ]
  },
  {
   "cell_type": "markdown",
   "metadata": {},
   "source": [
    "过滤掉日期错误的"
   ]
  },
  {
   "cell_type": "code",
   "execution_count": 16,
   "metadata": {},
   "outputs": [
    {
     "name": "stdout",
     "output_type": "stream",
     "text": [
      "过滤错误信息后数据量： (726242, 9)\n"
     ]
    }
   ],
   "source": [
    "comm['REQ_BEGIN_DATE'] = comm.REQ_BEGIN_DATE.apply(lambda x:pd.to_datetime(x))\n",
    "comm['REQ_FINISH_DATE'] = comm.REQ_FINISH_DATE.apply(lambda x:pd.to_datetime(x))\n",
    "\n",
    "comm = comm.loc[~(comm.REQ_BEGIN_DATE > comm.REQ_FINISH_DATE)]\n",
    "print ('过滤错误信息后数据量：',comm.shape) \n",
    "df = df.loc[df.CUST_NO.isin(comm.CUST_NO)].copy()"
   ]
  },
  {
   "cell_type": "markdown",
   "metadata": {},
   "source": [
    "构建特征：通话时间，并进行归一化"
   ]
  },
  {
   "cell_type": "code",
   "execution_count": 17,
   "metadata": {},
   "outputs": [
    {
     "data": {
      "text/html": [
       "<div>\n",
       "<style scoped>\n",
       "    .dataframe tbody tr th:only-of-type {\n",
       "        vertical-align: middle;\n",
       "    }\n",
       "\n",
       "    .dataframe tbody tr th {\n",
       "        vertical-align: top;\n",
       "    }\n",
       "\n",
       "    .dataframe thead th {\n",
       "        text-align: right;\n",
       "    }\n",
       "</style>\n",
       "<table border=\"1\" class=\"dataframe\">\n",
       "  <thead>\n",
       "    <tr style=\"text-align: right;\">\n",
       "      <th></th>\n",
       "      <th>CUST_NO</th>\n",
       "      <th>label</th>\n",
       "      <th>holding_time_seconds</th>\n",
       "    </tr>\n",
       "  </thead>\n",
       "  <tbody>\n",
       "    <tr>\n",
       "      <th>0</th>\n",
       "      <td>6025069204</td>\n",
       "      <td>0</td>\n",
       "      <td>0.027580</td>\n",
       "    </tr>\n",
       "    <tr>\n",
       "      <th>1</th>\n",
       "      <td>6024028361</td>\n",
       "      <td>0</td>\n",
       "      <td>0.019870</td>\n",
       "    </tr>\n",
       "    <tr>\n",
       "      <th>2</th>\n",
       "      <td>4611040160</td>\n",
       "      <td>0</td>\n",
       "      <td>0.043298</td>\n",
       "    </tr>\n",
       "    <tr>\n",
       "      <th>3</th>\n",
       "      <td>3951024135</td>\n",
       "      <td>0</td>\n",
       "      <td>0.063167</td>\n",
       "    </tr>\n",
       "    <tr>\n",
       "      <th>4</th>\n",
       "      <td>3951016564</td>\n",
       "      <td>0</td>\n",
       "      <td>0.025801</td>\n",
       "    </tr>\n",
       "  </tbody>\n",
       "</table>\n",
       "</div>"
      ],
      "text/plain": [
       "      CUST_NO  label  holding_time_seconds\n",
       "0  6025069204      0              0.027580\n",
       "1  6024028361      0              0.019870\n",
       "2  4611040160      0              0.043298\n",
       "3  3951024135      0              0.063167\n",
       "4  3951016564      0              0.025801"
      ]
     },
     "execution_count": 17,
     "metadata": {},
     "output_type": "execute_result"
    }
   ],
   "source": [
    "comm['holding_time'] = comm['REQ_FINISH_DATE'] - comm['REQ_BEGIN_DATE']\n",
    "comm['holding_time_seconds'] = comm.holding_time.apply(lambda x:x.seconds)\n",
    "df = df.merge(comm[['CUST_NO', 'holding_time_seconds']], how='left', on='CUST_NO')\n",
    "# 通话时间归一化，秒\n",
    "df['holding_time_seconds'] = MinMaxScaler().fit_transform(df['holding_time_seconds'].values.reshape(-1, 1))\n",
    "del comm\n",
    "df.head()"
   ]
  },
  {
   "cell_type": "markdown",
   "metadata": {},
   "source": [
    "特征数据one-hot编码"
   ]
  },
  {
   "cell_type": "code",
   "execution_count": 18,
   "metadata": {},
   "outputs": [],
   "source": [
    "jobinfo = jobinfo.loc[jobinfo.CUST_NO.isin(df.CUST_NO)].copy()\n",
    "jobinfo.reset_index(drop=True, inplace=True)"
   ]
  },
  {
   "cell_type": "markdown",
   "metadata": {},
   "source": [
    "rank函数会进行排名操作，也就是当前数据是排名第几的，指定max方法就是有相同的取大的名次。"
   ]
  },
  {
   "cell_type": "code",
   "execution_count": 19,
   "metadata": {},
   "outputs": [
    {
     "data": {
      "text/html": [
       "<div>\n",
       "<style scoped>\n",
       "    .dataframe tbody tr th:only-of-type {\n",
       "        vertical-align: middle;\n",
       "    }\n",
       "\n",
       "    .dataframe tbody tr th {\n",
       "        vertical-align: top;\n",
       "    }\n",
       "\n",
       "    .dataframe thead th {\n",
       "        text-align: right;\n",
       "    }\n",
       "</style>\n",
       "<table border=\"1\" class=\"dataframe\">\n",
       "  <thead>\n",
       "    <tr style=\"text-align: right;\">\n",
       "      <th></th>\n",
       "      <th>CUST_NO</th>\n",
       "      <th>label</th>\n",
       "      <th>holding_time_seconds</th>\n",
       "      <th>rank_CUST_NO</th>\n",
       "    </tr>\n",
       "  </thead>\n",
       "  <tbody>\n",
       "    <tr>\n",
       "      <th>0</th>\n",
       "      <td>6025069204</td>\n",
       "      <td>0</td>\n",
       "      <td>0.027580</td>\n",
       "      <td>537949.0</td>\n",
       "    </tr>\n",
       "    <tr>\n",
       "      <th>1</th>\n",
       "      <td>6024028361</td>\n",
       "      <td>0</td>\n",
       "      <td>0.019870</td>\n",
       "      <td>526429.0</td>\n",
       "    </tr>\n",
       "    <tr>\n",
       "      <th>2</th>\n",
       "      <td>4611040160</td>\n",
       "      <td>0</td>\n",
       "      <td>0.043298</td>\n",
       "      <td>286725.0</td>\n",
       "    </tr>\n",
       "    <tr>\n",
       "      <th>3</th>\n",
       "      <td>3951024135</td>\n",
       "      <td>0</td>\n",
       "      <td>0.063167</td>\n",
       "      <td>248166.0</td>\n",
       "    </tr>\n",
       "    <tr>\n",
       "      <th>4</th>\n",
       "      <td>3951016564</td>\n",
       "      <td>0</td>\n",
       "      <td>0.025801</td>\n",
       "      <td>247781.0</td>\n",
       "    </tr>\n",
       "  </tbody>\n",
       "</table>\n",
       "</div>"
      ],
      "text/plain": [
       "      CUST_NO  label  holding_time_seconds  rank_CUST_NO\n",
       "0  6025069204      0              0.027580      537949.0\n",
       "1  6024028361      0              0.019870      526429.0\n",
       "2  4611040160      0              0.043298      286725.0\n",
       "3  3951024135      0              0.063167      248166.0\n",
       "4  3951016564      0              0.025801      247781.0"
      ]
     },
     "execution_count": 19,
     "metadata": {},
     "output_type": "execute_result"
    }
   ],
   "source": [
    "df['rank_CUST_NO'] =df.CUST_NO.rank(method='max') \n",
    "df.head()"
   ]
  },
  {
   "cell_type": "markdown",
   "metadata": {},
   "source": [
    "名词归一化"
   ]
  },
  {
   "cell_type": "code",
   "execution_count": 20,
   "metadata": {},
   "outputs": [
    {
     "data": {
      "text/html": [
       "<div>\n",
       "<style scoped>\n",
       "    .dataframe tbody tr th:only-of-type {\n",
       "        vertical-align: middle;\n",
       "    }\n",
       "\n",
       "    .dataframe tbody tr th {\n",
       "        vertical-align: top;\n",
       "    }\n",
       "\n",
       "    .dataframe thead th {\n",
       "        text-align: right;\n",
       "    }\n",
       "</style>\n",
       "<table border=\"1\" class=\"dataframe\">\n",
       "  <thead>\n",
       "    <tr style=\"text-align: right;\">\n",
       "      <th></th>\n",
       "      <th>CUST_NO</th>\n",
       "      <th>label</th>\n",
       "      <th>holding_time_seconds</th>\n",
       "      <th>rank_CUST_NO</th>\n",
       "    </tr>\n",
       "  </thead>\n",
       "  <tbody>\n",
       "    <tr>\n",
       "      <th>0</th>\n",
       "      <td>6025069204</td>\n",
       "      <td>0</td>\n",
       "      <td>0.027580</td>\n",
       "      <td>0.740729</td>\n",
       "    </tr>\n",
       "    <tr>\n",
       "      <th>1</th>\n",
       "      <td>6024028361</td>\n",
       "      <td>0</td>\n",
       "      <td>0.019870</td>\n",
       "      <td>0.724867</td>\n",
       "    </tr>\n",
       "    <tr>\n",
       "      <th>2</th>\n",
       "      <td>4611040160</td>\n",
       "      <td>0</td>\n",
       "      <td>0.043298</td>\n",
       "      <td>0.394806</td>\n",
       "    </tr>\n",
       "    <tr>\n",
       "      <th>3</th>\n",
       "      <td>3951024135</td>\n",
       "      <td>0</td>\n",
       "      <td>0.063167</td>\n",
       "      <td>0.341712</td>\n",
       "    </tr>\n",
       "    <tr>\n",
       "      <th>4</th>\n",
       "      <td>3951016564</td>\n",
       "      <td>0</td>\n",
       "      <td>0.025801</td>\n",
       "      <td>0.341182</td>\n",
       "    </tr>\n",
       "  </tbody>\n",
       "</table>\n",
       "</div>"
      ],
      "text/plain": [
       "      CUST_NO  label  holding_time_seconds  rank_CUST_NO\n",
       "0  6025069204      0              0.027580      0.740729\n",
       "1  6024028361      0              0.019870      0.724867\n",
       "2  4611040160      0              0.043298      0.394806\n",
       "3  3951024135      0              0.063167      0.341712\n",
       "4  3951016564      0              0.025801      0.341182"
      ]
     },
     "execution_count": 20,
     "metadata": {},
     "output_type": "execute_result"
    }
   ],
   "source": [
    "df['rank_CUST_NO'] = MinMaxScaler().fit_transform(df.rank_CUST_NO.values.reshape(-1, 1))\n",
    "df.head()"
   ]
  },
  {
   "cell_type": "markdown",
   "metadata": {},
   "source": [
    "对离散型数值进行编码"
   ]
  },
  {
   "cell_type": "code",
   "execution_count": 21,
   "metadata": {},
   "outputs": [],
   "source": [
    "df = df.merge(jobinfo[['CUST_NO', 'BUSI_TYPE_CODE']], on='CUST_NO', how='left')\n",
    "temp = pd.get_dummies(df.BUSI_TYPE_CODE, prefix='onehot_BUSI_TYPE_CODE', dummy_na=True)\n",
    "df = pd.concat([df, temp], axis=1)\n",
    "df.drop(['BUSI_TYPE_CODE'], axis=1, inplace=True)\n",
    "del temp"
   ]
  },
  {
   "cell_type": "code",
   "execution_count": 22,
   "metadata": {},
   "outputs": [],
   "source": [
    "df = df.merge(jobinfo[['CUST_NO', 'URBAN_RURAL_FLAG']], on='CUST_NO', how='left')\n",
    "temp = pd.get_dummies(df.URBAN_RURAL_FLAG, prefix='onehot_URBAN_RURAL_FLAG', dummy_na=True)\n",
    "df = pd.concat([df, temp], axis=1)\n",
    "df.drop(['URBAN_RURAL_FLAG'], axis=1, inplace=True)\n",
    "del temp"
   ]
  },
  {
   "cell_type": "code",
   "execution_count": 23,
   "metadata": {},
   "outputs": [
    {
     "data": {
      "text/html": [
       "<div>\n",
       "<style scoped>\n",
       "    .dataframe tbody tr th:only-of-type {\n",
       "        vertical-align: middle;\n",
       "    }\n",
       "\n",
       "    .dataframe tbody tr th {\n",
       "        vertical-align: top;\n",
       "    }\n",
       "\n",
       "    .dataframe thead th {\n",
       "        text-align: right;\n",
       "    }\n",
       "</style>\n",
       "<table border=\"1\" class=\"dataframe\">\n",
       "  <thead>\n",
       "    <tr style=\"text-align: right;\">\n",
       "      <th></th>\n",
       "      <th>CUST_NO</th>\n",
       "      <th>label</th>\n",
       "      <th>holding_time_seconds</th>\n",
       "      <th>rank_CUST_NO</th>\n",
       "      <th>onehot_BUSI_TYPE_CODE_1.0</th>\n",
       "      <th>onehot_BUSI_TYPE_CODE_3.0</th>\n",
       "      <th>onehot_BUSI_TYPE_CODE_5.0</th>\n",
       "      <th>onehot_BUSI_TYPE_CODE_6.0</th>\n",
       "      <th>onehot_BUSI_TYPE_CODE_7.0</th>\n",
       "      <th>onehot_BUSI_TYPE_CODE_8.0</th>\n",
       "      <th>onehot_BUSI_TYPE_CODE_9.0</th>\n",
       "      <th>onehot_BUSI_TYPE_CODE_10.0</th>\n",
       "      <th>onehot_BUSI_TYPE_CODE_15.0</th>\n",
       "      <th>onehot_BUSI_TYPE_CODE_18.0</th>\n",
       "      <th>onehot_BUSI_TYPE_CODE_nan</th>\n",
       "      <th>onehot_URBAN_RURAL_FLAG_1.0</th>\n",
       "      <th>onehot_URBAN_RURAL_FLAG_2.0</th>\n",
       "      <th>onehot_URBAN_RURAL_FLAG_3.0</th>\n",
       "      <th>onehot_URBAN_RURAL_FLAG_nan</th>\n",
       "    </tr>\n",
       "  </thead>\n",
       "  <tbody>\n",
       "    <tr>\n",
       "      <th>0</th>\n",
       "      <td>6025069204</td>\n",
       "      <td>0</td>\n",
       "      <td>0.027580</td>\n",
       "      <td>0.740729</td>\n",
       "      <td>0</td>\n",
       "      <td>1</td>\n",
       "      <td>0</td>\n",
       "      <td>0</td>\n",
       "      <td>0</td>\n",
       "      <td>0</td>\n",
       "      <td>0</td>\n",
       "      <td>0</td>\n",
       "      <td>0</td>\n",
       "      <td>0</td>\n",
       "      <td>0</td>\n",
       "      <td>1</td>\n",
       "      <td>0</td>\n",
       "      <td>0</td>\n",
       "      <td>0</td>\n",
       "    </tr>\n",
       "    <tr>\n",
       "      <th>1</th>\n",
       "      <td>6024028361</td>\n",
       "      <td>0</td>\n",
       "      <td>0.019870</td>\n",
       "      <td>0.724867</td>\n",
       "      <td>0</td>\n",
       "      <td>1</td>\n",
       "      <td>0</td>\n",
       "      <td>0</td>\n",
       "      <td>0</td>\n",
       "      <td>0</td>\n",
       "      <td>0</td>\n",
       "      <td>0</td>\n",
       "      <td>0</td>\n",
       "      <td>0</td>\n",
       "      <td>0</td>\n",
       "      <td>1</td>\n",
       "      <td>0</td>\n",
       "      <td>0</td>\n",
       "      <td>0</td>\n",
       "    </tr>\n",
       "    <tr>\n",
       "      <th>2</th>\n",
       "      <td>4611040160</td>\n",
       "      <td>0</td>\n",
       "      <td>0.043298</td>\n",
       "      <td>0.394806</td>\n",
       "      <td>0</td>\n",
       "      <td>1</td>\n",
       "      <td>0</td>\n",
       "      <td>0</td>\n",
       "      <td>0</td>\n",
       "      <td>0</td>\n",
       "      <td>0</td>\n",
       "      <td>0</td>\n",
       "      <td>0</td>\n",
       "      <td>0</td>\n",
       "      <td>0</td>\n",
       "      <td>1</td>\n",
       "      <td>0</td>\n",
       "      <td>0</td>\n",
       "      <td>0</td>\n",
       "    </tr>\n",
       "    <tr>\n",
       "      <th>3</th>\n",
       "      <td>3951024135</td>\n",
       "      <td>0</td>\n",
       "      <td>0.063167</td>\n",
       "      <td>0.341712</td>\n",
       "      <td>0</td>\n",
       "      <td>1</td>\n",
       "      <td>0</td>\n",
       "      <td>0</td>\n",
       "      <td>0</td>\n",
       "      <td>0</td>\n",
       "      <td>0</td>\n",
       "      <td>0</td>\n",
       "      <td>0</td>\n",
       "      <td>0</td>\n",
       "      <td>0</td>\n",
       "      <td>1</td>\n",
       "      <td>0</td>\n",
       "      <td>0</td>\n",
       "      <td>0</td>\n",
       "    </tr>\n",
       "    <tr>\n",
       "      <th>4</th>\n",
       "      <td>3951016564</td>\n",
       "      <td>0</td>\n",
       "      <td>0.025801</td>\n",
       "      <td>0.341182</td>\n",
       "      <td>0</td>\n",
       "      <td>1</td>\n",
       "      <td>0</td>\n",
       "      <td>0</td>\n",
       "      <td>0</td>\n",
       "      <td>0</td>\n",
       "      <td>0</td>\n",
       "      <td>0</td>\n",
       "      <td>0</td>\n",
       "      <td>0</td>\n",
       "      <td>0</td>\n",
       "      <td>1</td>\n",
       "      <td>0</td>\n",
       "      <td>0</td>\n",
       "      <td>0</td>\n",
       "    </tr>\n",
       "  </tbody>\n",
       "</table>\n",
       "</div>"
      ],
      "text/plain": [
       "      CUST_NO  label  holding_time_seconds  rank_CUST_NO  \\\n",
       "0  6025069204      0              0.027580      0.740729   \n",
       "1  6024028361      0              0.019870      0.724867   \n",
       "2  4611040160      0              0.043298      0.394806   \n",
       "3  3951024135      0              0.063167      0.341712   \n",
       "4  3951016564      0              0.025801      0.341182   \n",
       "\n",
       "   onehot_BUSI_TYPE_CODE_1.0  onehot_BUSI_TYPE_CODE_3.0  \\\n",
       "0                          0                          1   \n",
       "1                          0                          1   \n",
       "2                          0                          1   \n",
       "3                          0                          1   \n",
       "4                          0                          1   \n",
       "\n",
       "   onehot_BUSI_TYPE_CODE_5.0  onehot_BUSI_TYPE_CODE_6.0  \\\n",
       "0                          0                          0   \n",
       "1                          0                          0   \n",
       "2                          0                          0   \n",
       "3                          0                          0   \n",
       "4                          0                          0   \n",
       "\n",
       "   onehot_BUSI_TYPE_CODE_7.0  onehot_BUSI_TYPE_CODE_8.0  \\\n",
       "0                          0                          0   \n",
       "1                          0                          0   \n",
       "2                          0                          0   \n",
       "3                          0                          0   \n",
       "4                          0                          0   \n",
       "\n",
       "   onehot_BUSI_TYPE_CODE_9.0  onehot_BUSI_TYPE_CODE_10.0  \\\n",
       "0                          0                           0   \n",
       "1                          0                           0   \n",
       "2                          0                           0   \n",
       "3                          0                           0   \n",
       "4                          0                           0   \n",
       "\n",
       "   onehot_BUSI_TYPE_CODE_15.0  onehot_BUSI_TYPE_CODE_18.0  \\\n",
       "0                           0                           0   \n",
       "1                           0                           0   \n",
       "2                           0                           0   \n",
       "3                           0                           0   \n",
       "4                           0                           0   \n",
       "\n",
       "   onehot_BUSI_TYPE_CODE_nan  onehot_URBAN_RURAL_FLAG_1.0  \\\n",
       "0                          0                            1   \n",
       "1                          0                            1   \n",
       "2                          0                            1   \n",
       "3                          0                            1   \n",
       "4                          0                            1   \n",
       "\n",
       "   onehot_URBAN_RURAL_FLAG_2.0  onehot_URBAN_RURAL_FLAG_3.0  \\\n",
       "0                            0                            0   \n",
       "1                            0                            0   \n",
       "2                            0                            0   \n",
       "3                            0                            0   \n",
       "4                            0                            0   \n",
       "\n",
       "   onehot_URBAN_RURAL_FLAG_nan  \n",
       "0                            0  \n",
       "1                            0  \n",
       "2                            0  \n",
       "3                            0  \n",
       "4                            0  "
      ]
     },
     "execution_count": 23,
     "metadata": {},
     "output_type": "execute_result"
    }
   ],
   "source": [
    "df.head()"
   ]
  },
  {
   "cell_type": "markdown",
   "metadata": {},
   "source": [
    "供电单位编码,按长度"
   ]
  },
  {
   "cell_type": "code",
   "execution_count": 24,
   "metadata": {},
   "outputs": [],
   "source": [
    "df = df.merge(jobinfo[['CUST_NO', 'ORG_NO']], on='CUST_NO', how='left')\n",
    "df['len_of_ORG_NO'] = df.ORG_NO.apply(lambda x:len(str(x)))\n",
    "df.fillna(-1, inplace=True)"
   ]
  },
  {
   "cell_type": "markdown",
   "metadata": {},
   "source": [
    "ration为数据集中正例子数据编码长度所占比例"
   ]
  },
  {
   "cell_type": "code",
   "execution_count": 25,
   "metadata": {},
   "outputs": [],
   "source": [
    "train = df[df.label != -1] \n",
    "ratio = {}\n",
    "for i in train.ORG_NO.unique():\n",
    "    ratio[i] = len(train.loc[(train.ORG_NO == i) & (train.label == 1)]) / len(train.loc[train.ORG_NO == i])"
   ]
  },
  {
   "cell_type": "code",
   "execution_count": 26,
   "metadata": {},
   "outputs": [
    {
     "data": {
      "text/plain": [
       "0    0.042863\n",
       "1    0.042863\n",
       "2    0.000000\n",
       "3    0.000000\n",
       "4    0.000790\n",
       "Name: ratio_ORG_NO, dtype: float64"
      ]
     },
     "execution_count": 26,
     "metadata": {},
     "output_type": "execute_result"
    }
   ],
   "source": [
    "df['ratio_ORG_NO'] = df.ORG_NO.map(ratio)\n",
    "df['ratio_ORG_NO'].head()"
   ]
  },
  {
   "cell_type": "markdown",
   "metadata": {},
   "source": [
    "同样进行one-hot编码"
   ]
  },
  {
   "cell_type": "code",
   "execution_count": 27,
   "metadata": {},
   "outputs": [],
   "source": [
    "temp = pd.get_dummies(df.len_of_ORG_NO, prefix='onehot_len_of_ORG_NO')\n",
    "df = pd.concat([df, temp], axis=1)\n",
    "# drop\n",
    "df.drop(['ORG_NO', 'len_of_ORG_NO'], axis=1, inplace=True)"
   ]
  },
  {
   "cell_type": "markdown",
   "metadata": {},
   "source": [
    "时间数据处理:正负例之间有明显区别"
   ]
  },
  {
   "cell_type": "markdown",
   "metadata": {},
   "source": [
    "<img src=\"../img/8.png\" style=\"width:600px;height:380px;float:left\">"
   ]
  },
  {
   "cell_type": "code",
   "execution_count": 28,
   "metadata": {},
   "outputs": [
    {
     "data": {
      "text/html": [
       "<div>\n",
       "<style scoped>\n",
       "    .dataframe tbody tr th:only-of-type {\n",
       "        vertical-align: middle;\n",
       "    }\n",
       "\n",
       "    .dataframe tbody tr th {\n",
       "        vertical-align: top;\n",
       "    }\n",
       "\n",
       "    .dataframe thead th {\n",
       "        text-align: right;\n",
       "    }\n",
       "</style>\n",
       "<table border=\"1\" class=\"dataframe\">\n",
       "  <thead>\n",
       "    <tr style=\"text-align: right;\">\n",
       "      <th></th>\n",
       "      <th>CUST_NO</th>\n",
       "      <th>date</th>\n",
       "      <th>time</th>\n",
       "      <th>month</th>\n",
       "      <th>day</th>\n",
       "    </tr>\n",
       "  </thead>\n",
       "  <tbody>\n",
       "    <tr>\n",
       "      <th>0</th>\n",
       "      <td>6025069204</td>\n",
       "      <td>2015-03-10</td>\n",
       "      <td>10:54:06</td>\n",
       "      <td>3</td>\n",
       "      <td>10</td>\n",
       "    </tr>\n",
       "    <tr>\n",
       "      <th>1</th>\n",
       "      <td>6024028361</td>\n",
       "      <td>2015-05-11</td>\n",
       "      <td>9:43:33</td>\n",
       "      <td>5</td>\n",
       "      <td>11</td>\n",
       "    </tr>\n",
       "    <tr>\n",
       "      <th>2</th>\n",
       "      <td>4611040160</td>\n",
       "      <td>2015-11-25</td>\n",
       "      <td>14:43:23</td>\n",
       "      <td>11</td>\n",
       "      <td>25</td>\n",
       "    </tr>\n",
       "    <tr>\n",
       "      <th>3</th>\n",
       "      <td>3951024135</td>\n",
       "      <td>2015-04-10</td>\n",
       "      <td>15:20:03</td>\n",
       "      <td>4</td>\n",
       "      <td>10</td>\n",
       "    </tr>\n",
       "    <tr>\n",
       "      <th>4</th>\n",
       "      <td>3951016564</td>\n",
       "      <td>2015-08-03</td>\n",
       "      <td>16:27:40</td>\n",
       "      <td>8</td>\n",
       "      <td>3</td>\n",
       "    </tr>\n",
       "  </tbody>\n",
       "</table>\n",
       "</div>"
      ],
      "text/plain": [
       "      CUST_NO       date      time  month  day\n",
       "0  6025069204 2015-03-10  10:54:06      3   10\n",
       "1  6024028361 2015-05-11   9:43:33      5   11\n",
       "2  4611040160 2015-11-25  14:43:23     11   25\n",
       "3  3951024135 2015-04-10  15:20:03      4   10\n",
       "4  3951016564 2015-08-03  16:27:40      8    3"
      ]
     },
     "execution_count": 28,
     "metadata": {},
     "output_type": "execute_result"
    }
   ],
   "source": [
    "df = df.merge(jobinfo[['CUST_NO', 'HANDLE_TIME']], on='CUST_NO', how='left')\n",
    "df['date'] = df['HANDLE_TIME'].apply(lambda x:pd.to_datetime(x.split()[0]))\n",
    "df['time'] = df['HANDLE_TIME'].apply(lambda x:x.split()[1])\n",
    "# month\n",
    "# 1.label encoder\n",
    "df['month'] = df['date'].apply(lambda x:x.month)\n",
    "# day 一个月的第几天\n",
    "# 1.label encoder\n",
    "df['day'] = df.date.apply(lambda x:x.day)\n",
    "features = ['CUST_NO','date','time','month','day']\n",
    "df[features].head()"
   ]
  },
  {
   "cell_type": "markdown",
   "metadata": {},
   "source": [
    "按照上旬，中旬，下旬进行统计"
   ]
  },
  {
   "cell_type": "code",
   "execution_count": 29,
   "metadata": {},
   "outputs": [],
   "source": [
    "df['is_in_first_tendays'] = 0\n",
    "df.loc[df.day.isin(range(1,11)), 'is_in_first_tendays'] = 1\n",
    "df['is_in_middle_tendays'] = 0\n",
    "df.loc[df.day.isin(range(11,21)), 'is_in_middle_tendays'] = 1\n",
    "df['is_in_last_tendays'] = 0\n",
    "df.loc[df.day.isin(range(21,32)), 'is_in_last_tendays'] = 1"
   ]
  },
  {
   "cell_type": "code",
   "execution_count": 30,
   "metadata": {},
   "outputs": [],
   "source": [
    "df['hour'] = df.time.apply(lambda x:int(x.split(':')[0]))\n",
    "df.drop(['HANDLE_TIME', 'date', 'time'], axis=1, inplace=True)"
   ]
  },
  {
   "cell_type": "markdown",
   "metadata": {},
   "source": [
    "同样的方法处理ELEC_TYPE，首位表示用电方式，如工业用电"
   ]
  },
  {
   "cell_type": "code",
   "execution_count": 31,
   "metadata": {},
   "outputs": [],
   "source": [
    "df = df.merge(jobinfo[['CUST_NO', 'ELEC_TYPE']], on='CUST_NO', how='left')\n",
    "df.fillna(0,inplace=True)\n",
    "df['head_of_ELEC_TYPE'] = df.ELEC_TYPE.apply(lambda x:str(x)[0])"
   ]
  },
  {
   "cell_type": "code",
   "execution_count": 32,
   "metadata": {},
   "outputs": [],
   "source": [
    "# 是否是空值\n",
    "df['is_ELEC_TYPE_NaN'] = 0\n",
    "df.loc[df.ELEC_TYPE == 0, 'is_ELEC_TYPE_NaN'] = 1\n",
    "# 1.label encoder\n",
    "df['label_encoder_ELEC_TYPE'] = LabelEncoder().fit_transform(df['ELEC_TYPE'])\n",
    "# 2.ratio \n",
    "train = df[df.label != -1]\n",
    "ratio = {}\n",
    "for i in train.ELEC_TYPE.unique():\n",
    "    ratio[i] = len(train.loc[(train.ELEC_TYPE == i) & (train.label == 1)]) / len(train.loc[train.ELEC_TYPE == i])\n",
    "df['ratio_ELEC_TYPE'] = df.ELEC_TYPE.map(ratio)\n",
    "df.fillna(0,inplace=True)"
   ]
  },
  {
   "cell_type": "code",
   "execution_count": 33,
   "metadata": {},
   "outputs": [
    {
     "data": {
      "text/html": [
       "<div>\n",
       "<style scoped>\n",
       "    .dataframe tbody tr th:only-of-type {\n",
       "        vertical-align: middle;\n",
       "    }\n",
       "\n",
       "    .dataframe tbody tr th {\n",
       "        vertical-align: top;\n",
       "    }\n",
       "\n",
       "    .dataframe thead th {\n",
       "        text-align: right;\n",
       "    }\n",
       "</style>\n",
       "<table border=\"1\" class=\"dataframe\">\n",
       "  <thead>\n",
       "    <tr style=\"text-align: right;\">\n",
       "      <th></th>\n",
       "      <th>ratio_ELEC_TYPE</th>\n",
       "      <th>head_of_ELEC_TYPE</th>\n",
       "    </tr>\n",
       "  </thead>\n",
       "  <tbody>\n",
       "    <tr>\n",
       "      <th>0</th>\n",
       "      <td>0.045000</td>\n",
       "      <td>2</td>\n",
       "    </tr>\n",
       "    <tr>\n",
       "      <th>1</th>\n",
       "      <td>0.028253</td>\n",
       "      <td>0</td>\n",
       "    </tr>\n",
       "    <tr>\n",
       "      <th>2</th>\n",
       "      <td>0.033400</td>\n",
       "      <td>2</td>\n",
       "    </tr>\n",
       "    <tr>\n",
       "      <th>3</th>\n",
       "      <td>0.033400</td>\n",
       "      <td>2</td>\n",
       "    </tr>\n",
       "    <tr>\n",
       "      <th>4</th>\n",
       "      <td>0.033400</td>\n",
       "      <td>2</td>\n",
       "    </tr>\n",
       "  </tbody>\n",
       "</table>\n",
       "</div>"
      ],
      "text/plain": [
       "   ratio_ELEC_TYPE head_of_ELEC_TYPE\n",
       "0         0.045000                 2\n",
       "1         0.028253                 0\n",
       "2         0.033400                 2\n",
       "3         0.033400                 2\n",
       "4         0.033400                 2"
      ]
     },
     "execution_count": 33,
     "metadata": {},
     "output_type": "execute_result"
    }
   ],
   "source": [
    "features = ['ratio_ELEC_TYPE','head_of_ELEC_TYPE']\n",
    "df[features].head()"
   ]
  },
  {
   "cell_type": "code",
   "execution_count": 34,
   "metadata": {},
   "outputs": [],
   "source": [
    "temp = pd.get_dummies(df.head_of_ELEC_TYPE, prefix='onehot_head_of_ELEC_TYPE')\n",
    "df = pd.concat([df, temp], axis=1)\n",
    "df.drop(['ELEC_TYPE', 'head_of_ELEC_TYPE'], axis=1, inplace=True)"
   ]
  },
  {
   "cell_type": "markdown",
   "metadata": {},
   "source": [
    "城市编码，处理方式同上"
   ]
  },
  {
   "cell_type": "code",
   "execution_count": 35,
   "metadata": {},
   "outputs": [],
   "source": [
    "df = df.merge(jobinfo[['CUST_NO', 'CITY_ORG_NO']], on='CUST_NO', how='left')\n",
    "train = df[df.label != -1]\n",
    "ratio = {}\n",
    "for i in train.CITY_ORG_NO.unique():\n",
    "    ratio[i] = len(train.loc[(train.CITY_ORG_NO == i) & (train.label == 1)]) / len(train.loc[train.CITY_ORG_NO == i])\n",
    "df['ratio_CITY_ORG_NO'] = df.CITY_ORG_NO.map(ratio)\n",
    "temp = pd.get_dummies(df.CITY_ORG_NO, prefix='onehot_CITY_ORG_NO')\n",
    "df = pd.concat([df, temp], axis=1)\n",
    "df.drop(['CITY_ORG_NO'], axis=1, inplace=True)"
   ]
  },
  {
   "cell_type": "markdown",
   "metadata": {},
   "source": [
    "收费信息表数据"
   ]
  },
  {
   "cell_type": "code",
   "execution_count": 36,
   "metadata": {},
   "outputs": [],
   "source": [
    "train_flow = pd.read_csv(data_path + file_flow_train, sep='\\t')\n",
    "test_flow = pd.read_csv(data_path + file_flow_test, sep='\\t')\n",
    "flow = train_flow.append(test_flow).copy()\n",
    "flow.rename(columns={'CONS_NO':'CUST_NO'}, inplace=True)\n",
    "flow.drop_duplicates(inplace=True)\n",
    "flow = flow.loc[flow.CUST_NO.isin(df.CUST_NO)].copy()"
   ]
  },
  {
   "cell_type": "code",
   "execution_count": 37,
   "metadata": {},
   "outputs": [
    {
     "data": {
      "text/html": [
       "<div>\n",
       "<style scoped>\n",
       "    .dataframe tbody tr th:only-of-type {\n",
       "        vertical-align: middle;\n",
       "    }\n",
       "\n",
       "    .dataframe tbody tr th {\n",
       "        vertical-align: top;\n",
       "    }\n",
       "\n",
       "    .dataframe thead th {\n",
       "        text-align: right;\n",
       "    }\n",
       "</style>\n",
       "<table border=\"1\" class=\"dataframe\">\n",
       "  <thead>\n",
       "    <tr style=\"text-align: right;\">\n",
       "      <th></th>\n",
       "      <th>CUST_NO</th>\n",
       "      <th>RCVBL_YM</th>\n",
       "      <th>ORG_NO</th>\n",
       "      <th>PAY_MODE</th>\n",
       "      <th>T_PQ</th>\n",
       "      <th>RCVBL_AMT</th>\n",
       "      <th>RCVED_AMT</th>\n",
       "      <th>STATUS_CODE</th>\n",
       "      <th>RCVBL_PENALTY</th>\n",
       "      <th>RCVED_PENALTY</th>\n",
       "      <th>RISK_LEVEL_CODE</th>\n",
       "      <th>OWE_AMT</th>\n",
       "      <th>CONS_SORT_CODE</th>\n",
       "      <th>ELEC_TYPE_CODE</th>\n",
       "      <th>CTL_MODE</th>\n",
       "    </tr>\n",
       "  </thead>\n",
       "  <tbody>\n",
       "    <tr>\n",
       "      <th>1</th>\n",
       "      <td>6010811670</td>\n",
       "      <td>201502</td>\n",
       "      <td>33401010130</td>\n",
       "      <td>10101.0</td>\n",
       "      <td>2791</td>\n",
       "      <td>2640.29</td>\n",
       "      <td>2640.29</td>\n",
       "      <td>1</td>\n",
       "      <td>0.00</td>\n",
       "      <td>0.00</td>\n",
       "      <td>NaN</td>\n",
       "      <td>2640.29</td>\n",
       "      <td>2.0</td>\n",
       "      <td>403.0</td>\n",
       "      <td>NaN</td>\n",
       "    </tr>\n",
       "    <tr>\n",
       "      <th>2</th>\n",
       "      <td>6010777305</td>\n",
       "      <td>201502</td>\n",
       "      <td>33401010130</td>\n",
       "      <td>20311.0</td>\n",
       "      <td>1883</td>\n",
       "      <td>1058.25</td>\n",
       "      <td>1058.25</td>\n",
       "      <td>1</td>\n",
       "      <td>2.12</td>\n",
       "      <td>2.12</td>\n",
       "      <td>NaN</td>\n",
       "      <td>1058.25</td>\n",
       "      <td>3.0</td>\n",
       "      <td>202.0</td>\n",
       "      <td>NaN</td>\n",
       "    </tr>\n",
       "    <tr>\n",
       "      <th>3</th>\n",
       "      <td>6010777296</td>\n",
       "      <td>201502</td>\n",
       "      <td>33401010130</td>\n",
       "      <td>20311.0</td>\n",
       "      <td>4279</td>\n",
       "      <td>3585.80</td>\n",
       "      <td>3585.80</td>\n",
       "      <td>1</td>\n",
       "      <td>0.00</td>\n",
       "      <td>0.00</td>\n",
       "      <td>NaN</td>\n",
       "      <td>3585.80</td>\n",
       "      <td>3.0</td>\n",
       "      <td>201.0</td>\n",
       "      <td>NaN</td>\n",
       "    </tr>\n",
       "    <tr>\n",
       "      <th>4</th>\n",
       "      <td>6010777190</td>\n",
       "      <td>201502</td>\n",
       "      <td>33401010130</td>\n",
       "      <td>20311.0</td>\n",
       "      <td>2514</td>\n",
       "      <td>1561.93</td>\n",
       "      <td>1561.93</td>\n",
       "      <td>1</td>\n",
       "      <td>0.00</td>\n",
       "      <td>0.00</td>\n",
       "      <td>NaN</td>\n",
       "      <td>1561.93</td>\n",
       "      <td>3.0</td>\n",
       "      <td>202.0</td>\n",
       "      <td>NaN</td>\n",
       "    </tr>\n",
       "    <tr>\n",
       "      <th>5</th>\n",
       "      <td>6010661530</td>\n",
       "      <td>201502</td>\n",
       "      <td>33401010130</td>\n",
       "      <td>20311.0</td>\n",
       "      <td>2574</td>\n",
       "      <td>2435.00</td>\n",
       "      <td>2435.00</td>\n",
       "      <td>1</td>\n",
       "      <td>0.00</td>\n",
       "      <td>0.00</td>\n",
       "      <td>NaN</td>\n",
       "      <td>2435.00</td>\n",
       "      <td>2.0</td>\n",
       "      <td>403.0</td>\n",
       "      <td>NaN</td>\n",
       "    </tr>\n",
       "  </tbody>\n",
       "</table>\n",
       "</div>"
      ],
      "text/plain": [
       "      CUST_NO  RCVBL_YM       ORG_NO  PAY_MODE  T_PQ  RCVBL_AMT  RCVED_AMT  \\\n",
       "1  6010811670    201502  33401010130   10101.0  2791    2640.29    2640.29   \n",
       "2  6010777305    201502  33401010130   20311.0  1883    1058.25    1058.25   \n",
       "3  6010777296    201502  33401010130   20311.0  4279    3585.80    3585.80   \n",
       "4  6010777190    201502  33401010130   20311.0  2514    1561.93    1561.93   \n",
       "5  6010661530    201502  33401010130   20311.0  2574    2435.00    2435.00   \n",
       "\n",
       "   STATUS_CODE  RCVBL_PENALTY  RCVED_PENALTY  RISK_LEVEL_CODE  OWE_AMT  \\\n",
       "1            1           0.00           0.00              NaN  2640.29   \n",
       "2            1           2.12           2.12              NaN  1058.25   \n",
       "3            1           0.00           0.00              NaN  3585.80   \n",
       "4            1           0.00           0.00              NaN  1561.93   \n",
       "5            1           0.00           0.00              NaN  2435.00   \n",
       "\n",
       "   CONS_SORT_CODE  ELEC_TYPE_CODE  CTL_MODE  \n",
       "1             2.0           403.0       NaN  \n",
       "2             3.0           202.0       NaN  \n",
       "3             3.0           201.0       NaN  \n",
       "4             3.0           202.0       NaN  \n",
       "5             2.0           403.0       NaN  "
      ]
     },
     "execution_count": 37,
     "metadata": {},
     "output_type": "execute_result"
    }
   ],
   "source": [
    "flow.head()"
   ]
  },
  {
   "cell_type": "code",
   "execution_count": 38,
   "metadata": {},
   "outputs": [],
   "source": [
    "flow['T_PQ'] = flow.T_PQ.apply(lambda x:-x if x<0 else x)\n",
    "flow['RCVBL_AMT'] = flow.RCVBL_AMT.apply(lambda x:-x if x<0 else x)\n",
    "flow['RCVED_AMT'] = flow.RCVED_AMT.apply(lambda x:-x if x<0 else x)\n",
    "flow['OWE_AMT'] = flow.OWE_AMT.apply(lambda x:-x if x<0 else x)"
   ]
  },
  {
   "cell_type": "markdown",
   "metadata": {},
   "source": [
    "有些数据缺失了"
   ]
  },
  {
   "cell_type": "code",
   "execution_count": 39,
   "metadata": {},
   "outputs": [],
   "source": [
    "df['has_biao9'] = 0\n",
    "df.loc[df.CUST_NO.isin(flow.CUST_NO), 'has_biao9'] = 1"
   ]
  },
  {
   "cell_type": "code",
   "execution_count": 40,
   "metadata": {},
   "outputs": [
    {
     "data": {
      "text/plain": [
       "0    12.0\n",
       "1    12.0\n",
       "2     NaN\n",
       "3     NaN\n",
       "4     NaN\n",
       "Name: counts_of_09flow, dtype: float64"
      ]
     },
     "execution_count": 40,
     "metadata": {},
     "output_type": "execute_result"
    }
   ],
   "source": [
    "df['counts_of_09flow'] = df.CUST_NO.map(flow.groupby('CUST_NO').size())\n",
    "df['counts_of_09flow'].head()"
   ]
  },
  {
   "cell_type": "markdown",
   "metadata": {},
   "source": [
    "构建统计特征"
   ]
  },
  {
   "cell_type": "code",
   "execution_count": 41,
   "metadata": {},
   "outputs": [],
   "source": [
    "# 应收金额\n",
    "df['sum_yingshoujine'] = log(df.CUST_NO.map(flow.groupby('CUST_NO').RCVBL_AMT.sum()) + 1)\n",
    "df['mean_yingshoujine'] = log(df.CUST_NO.map(flow.groupby('CUST_NO').RCVBL_AMT.mean()) + 1)\n",
    "df['max_yingshoujine'] = log(df.CUST_NO.map(flow.groupby('CUST_NO').RCVBL_AMT.max()) + 1)\n",
    "df['min_yingshoujine'] = log(df.CUST_NO.map(flow.groupby('CUST_NO').RCVBL_AMT.min()) + 1)\n",
    "df['std_yingshoujine'] = log(df.CUST_NO.map(flow.groupby('CUST_NO').RCVBL_AMT.std()) + 1)\n",
    "# 实收金额\n",
    "df['sum_shishoujine'] = log(df.CUST_NO.map(flow.groupby('CUST_NO').RCVED_AMT.sum()) + 1)\n",
    "# 少交了多少\n",
    "df['qianfei'] = df['sum_yingshoujine'] - df['sum_shishoujine']\n",
    "\n",
    "# 总电量\n",
    "df['sum_T_PQ'] = log(df.CUST_NO.map(flow.groupby('CUST_NO').T_PQ.sum()) + 1)\n",
    "df['mean_T_PQ'] = log(df.CUST_NO.map(flow.groupby('CUST_NO').T_PQ.mean()) + 1)\n",
    "df['max_T_PQ'] = log(df.CUST_NO.map(flow.groupby('CUST_NO').T_PQ.max()) + 1)\n",
    "df['min_T_PQ'] = log(df.CUST_NO.map(flow.groupby('CUST_NO').T_PQ.min()) + 1)\n",
    "df['std_T_PQ'] = log(df.CUST_NO.map(flow.groupby('CUST_NO').T_PQ.std()) + 1)\n",
    "\n",
    "# 电费金额\n",
    "df['sum_OWE_AMT'] = log(df.CUST_NO.map(flow.groupby('CUST_NO').OWE_AMT.sum()) + 1)\n",
    "df['mean_OWE_AMT'] = log(df.CUST_NO.map(flow.groupby('CUST_NO').OWE_AMT.mean()) + 1)\n",
    "df['max_OWE_AMT'] = log(df.CUST_NO.map(flow.groupby('CUST_NO').OWE_AMT.max()) + 1)\n",
    "df['min_OWE_AMT'] = log(df.CUST_NO.map(flow.groupby('CUST_NO').OWE_AMT.min()) + 1)\n",
    "df['std_OWE_AMT'] = log(df.CUST_NO.map(flow.groupby('CUST_NO').OWE_AMT.std()) + 1)\n",
    "\n",
    "# 电费金额和应收金额差多少\n",
    "df['dianfei_jian_yingshoujine'] = df['sum_OWE_AMT'] - df['sum_yingshoujine']\n",
    "\n",
    "# 应收违约金\n",
    "df['sum_RCVBL_PENALTY'] = log(df.CUST_NO.map(flow.groupby('CUST_NO').RCVBL_PENALTY.sum()) + 1)\n",
    "df['mean_RCVBL_PENALTY'] = log(df.CUST_NO.map(flow.groupby('CUST_NO').RCVBL_PENALTY.mean()) + 1)\n",
    "df['max_RCVBL_PENALTY'] = log(df.CUST_NO.map(flow.groupby('CUST_NO').RCVBL_PENALTY.max()) + 1)\n",
    "df['min_RCVBL_PENALTY'] = log(df.CUST_NO.map(flow.groupby('CUST_NO').RCVBL_PENALTY.min()) + 1)\n",
    "df['std_RCVBL_PENALTY'] = log(df.CUST_NO.map(flow.groupby('CUST_NO').RCVBL_PENALTY.std()) + 1)\n",
    "\n",
    "# 实收违约金\n",
    "df['sum_RCVED_PENALTY'] = log(df.CUST_NO.map(flow.groupby('CUST_NO').RCVED_PENALTY.sum()) + 1)\n",
    "df['mean_RCVED_PENALTY'] = log(df.CUST_NO.map(flow.groupby('CUST_NO').RCVED_PENALTY.mean()) + 1)\n",
    "df['max_RCVED_PENALTY'] = log(df.CUST_NO.map(flow.groupby('CUST_NO').RCVED_PENALTY.max()) + 1)\n",
    "df['min_RCVED_PENALTY'] = log(df.CUST_NO.map(flow.groupby('CUST_NO').RCVED_PENALTY.min()) + 1)\n",
    "df['std_RCVED_PENALTY'] = log(df.CUST_NO.map(flow.groupby('CUST_NO').RCVED_PENALTY.std()) + 1)\n",
    "\n",
    "df['chaduoshao_weiyuejin'] = df['sum_RCVBL_PENALTY'] - df['sum_RCVED_PENALTY']"
   ]
  },
  {
   "cell_type": "code",
   "execution_count": 42,
   "metadata": {},
   "outputs": [],
   "source": [
    "# 每个用户有几个月的记录\n",
    "df['nunique_RCVBL_YM'] = df.CUST_NO.map(flow.groupby('CUST_NO').RCVBL_YM.nunique())\n",
    "\n",
    "# 平均每个月几条\n",
    "df['mean_RCVBL_YM'] = df['counts_of_09flow'] / df['nunique_RCVBL_YM']\n",
    "del train_flow, test_flow, flow"
   ]
  },
  {
   "cell_type": "markdown",
   "metadata": {},
   "source": [
    "存下咱们的特征"
   ]
  },
  {
   "cell_type": "code",
   "execution_count": 43,
   "metadata": {},
   "outputs": [
    {
     "name": "stdout",
     "output_type": "stream",
     "text": [
      "统计特征搞定！\n"
     ]
    }
   ],
   "source": [
    "if not os.path.isdir('../myfeatures'):\n",
    "    os.makedirs('../myfeatures')\n",
    "    \n",
    "print('统计特征搞定！')\n",
    "pickle.dump(df, open('../myfeatures/statistical_features_1.pkl', 'wb'))"
   ]
  },
  {
   "cell_type": "markdown",
   "metadata": {},
   "source": [
    "对文本特征：\n",
    "\n",
    "* 1.增加专属词汇\n",
    "* 2.分词\n",
    "* 3.去停用词\n",
    "\n",
    "<img src=\"../img/6.png\" style=\"width:400px;height:130px;float:left\">"
   ]
  },
  {
   "cell_type": "code",
   "execution_count": 44,
   "metadata": {},
   "outputs": [
    {
     "name": "stderr",
     "output_type": "stream",
     "text": [
      "Building prefix dict from the default dictionary ...\n",
      "Loading model from cache C:\\Users\\Articuly\\AppData\\Local\\Temp\\jieba.cache\n"
     ]
    },
    {
     "name": "stdout",
     "output_type": "stream",
     "text": [
      "开始处理表1中的文本特征...\n"
     ]
    },
    {
     "name": "stderr",
     "output_type": "stream",
     "text": [
      "Loading model cost 0.794 seconds.\n",
      "Prefix dict has been built succesfully.\n"
     ]
    },
    {
     "name": "stdout",
     "output_type": "stream",
     "text": [
      "分词ing...\n"
     ]
    }
   ],
   "source": [
    "print('开始处理表1中的文本特征...')\n",
    "###############\n",
    "# ACCEPT_CONTENT\n",
    "###############\n",
    "\n",
    "mywords = ['户号', '分时', '抄表', '抄表示数', '工单', '单号', '工单号', '空气开关', '脉冲灯', '计量表', '来电', '报修']\n",
    "for word in mywords:\n",
    "    jieba.add_word(word)\n",
    "\n",
    "stops = set()\n",
    "with open('../stopwords.txt', encoding='utf-8')as f:\n",
    "    for word in f:\n",
    "        word = word.strip()\n",
    "        stops.add(word)\n",
    "\n",
    "def fenci(line):\n",
    "    res = []\n",
    "    words = jieba.cut(line)\n",
    "    for word in words:\n",
    "        if word not in stops:\n",
    "            res.append(word)\n",
    "    return ' '.join(res)\n",
    "print('分词ing...')\n",
    "jobinfo['contents'] = jobinfo.ACCEPT_CONTENT.apply(lambda x:fenci(x))"
   ]
  },
  {
   "cell_type": "markdown",
   "metadata": {},
   "source": [
    "手机号，户号等后面连接的号码是不用的，统一一下，具体号码没啥用"
   ]
  },
  {
   "cell_type": "code",
   "execution_count": 45,
   "metadata": {},
   "outputs": [],
   "source": [
    "def hash_number(x):  \n",
    "    shouji_pattern = re.compile('\\s1\\d{10}\\s|\\s1\\d{10}\\Z')\n",
    "    if shouji_pattern.findall(x):\n",
    "        x = re.sub(shouji_pattern, ' 手机number ', x)\n",
    "    \n",
    "    huhao_pattern = re.compile('\\s\\d{10}\\s|\\s\\d{10}\\Z')\n",
    "    if huhao_pattern.findall(x):\n",
    "        x = re.sub(huhao_pattern, ' 户号number ', x)\n",
    "            \n",
    "    tuiding_pattern = re.compile('\\s\\d{11}\\s|\\s\\d{11}\\Z')\n",
    "    if tuiding_pattern.findall(x):\n",
    "        x = re.sub(tuiding_pattern, ' 退订number ', x)\n",
    "            \n",
    "    gongdan_pattern = re.compile('\\s201\\d{13}\\s|\\s201\\d{13}\\Z')\n",
    "    if gongdan_pattern.findall(x):\n",
    "        x = re.sub(gongdan_pattern, ' 工单number ', x)\n",
    "            \n",
    "    tingdian_pattern = re.compile('\\s\\d{12}\\s|\\s\\d{12}\\Z')\n",
    "    if tingdian_pattern.findall(x):\n",
    "        x = re.sub(tingdian_pattern, ' 停电number ', x)\n",
    "        \n",
    "    return x.strip()"
   ]
  },
  {
   "cell_type": "markdown",
   "metadata": {},
   "source": [
    "加入文本特征"
   ]
  },
  {
   "cell_type": "code",
   "execution_count": 46,
   "metadata": {},
   "outputs": [
    {
     "name": "stdout",
     "output_type": "stream",
     "text": [
      "done!\n"
     ]
    }
   ],
   "source": [
    "jobinfo['content'] = jobinfo['contents'].apply(lambda x:hash_number(x))\n",
    "\n",
    "jobinfo['len_of_contents'] = jobinfo.content.apply(lambda x:len(x.split()))\n",
    "jobinfo['counts_of_words'] = jobinfo.content.apply(lambda x:len(set(x.split())))\n",
    "text = df[['CUST_NO']].copy()\n",
    "text = text.merge(jobinfo[['CUST_NO', 'len_of_contents', 'counts_of_words', 'content']], on='CUST_NO', how='left')\n",
    "text = text.rename(columns={'content': 'contents'})\n",
    "\n",
    "pickle.dump(text, open('../myfeatures/text_features_1.pkl', 'wb'))\n",
    "print('done!')"
   ]
  },
  {
   "cell_type": "markdown",
   "metadata": {},
   "source": [
    "## 文本特征筛选\n",
    "\n",
    "<img src=\"../img/9.png\" style=\"width:800px;height:330px;float:left\">"
   ]
  },
  {
   "cell_type": "markdown",
   "metadata": {},
   "source": [
    "读取存下来的特征，构建数据集"
   ]
  },
  {
   "cell_type": "code",
   "execution_count": 47,
   "metadata": {},
   "outputs": [
    {
     "name": "stdout",
     "output_type": "stream",
     "text": [
      "select features...\n"
     ]
    }
   ],
   "source": [
    "import pickle\n",
    "import pandas as pd\n",
    "from scipy.sparse import csc_matrix\n",
    "from sklearn.feature_extraction.text import TfidfVectorizer\n",
    "import xgboost as xgb #https://www.lfd.uci.edu/~gohlke/pythonlibs/\n",
    "\n",
    "print('select features...')\n",
    "\n",
    "df = pickle.load(open('../myfeatures/statistical_features_1.pkl', 'rb'))\n",
    "text = pickle.load(open('../myfeatures/text_features_1.pkl', 'rb'))\n",
    "df = df.merge(text, on='CUST_NO', how='left')\n",
    "\n",
    "train = df.loc[df.label != -1]\n",
    "test = df.loc[df.label == -1]\n",
    "\n",
    "x_data = train.copy()\n",
    "x_val = test.copy()\n",
    "# 打乱训练集\n",
    "x_data = x_data.sample(frac=1, random_state=1).reset_index(drop=True)"
   ]
  },
  {
   "cell_type": "markdown",
   "metadata": {},
   "source": [
    "稀疏矩阵"
   ]
  },
  {
   "cell_type": "code",
   "execution_count": 48,
   "metadata": {},
   "outputs": [],
   "source": [
    "delete_columns = ['CUST_NO', 'label', 'contents']\n",
    "X_train_1 = csc_matrix(x_data.drop(delete_columns, axis=1).values)         \n",
    "X_val_1 = csc_matrix(x_val.drop(delete_columns, axis=1).values)"
   ]
  },
  {
   "cell_type": "code",
   "execution_count": 49,
   "metadata": {},
   "outputs": [],
   "source": [
    "y_train = x_data.label.values\n",
    "y_val = x_val.label.values"
   ]
  },
  {
   "cell_type": "markdown",
   "metadata": {},
   "source": [
    "构造tf-idf特征"
   ]
  },
  {
   "cell_type": "code",
   "execution_count": 50,
   "metadata": {},
   "outputs": [
    {
     "name": "stdout",
     "output_type": "stream",
     "text": [
      "creating tfidf...\n",
      "X_train_2[1]:   (0, 5829)\t0.2902913877205925\n",
      "  (0, 5888)\t0.2902913877205925\n",
      "  (0, 6430)\t0.4915060446599552\n",
      "  (0, 6436)\t0.2902913877205925\n",
      "  (0, 6438)\t0.2902913877205925\n",
      "  (0, 7948)\t0.2902913877205925\n",
      "  (0, 7963)\t0.2902913877205925\n",
      "  (0, 9786)\t0.2902913877205925\n",
      "  (0, 11147)\t0.2902913877205925\n",
      "  (0, 11151)\t0.2902913877205925\n",
      "文本特征：19596维\n",
      "其他特征：85维\n",
      "特征数量 19681\n",
      "----------------------------------------------\n"
     ]
    }
   ],
   "source": [
    "featurenames = list(x_data.drop(delete_columns, axis=1).columns)\n",
    "print('creating tfidf...')\n",
    "tfidf = TfidfVectorizer(ngram_range=(1,2), min_df=3, use_idf=False, smooth_idf=False, sublinear_tf=True)\n",
    "tfidf.fit(x_data.contents)\n",
    "word_names = tfidf.get_feature_names()\n",
    "X_train_2 = tfidf.transform(x_data.contents)\n",
    "print ('X_train_2[1]:',X_train_2[1])\n",
    "X_val_2 = tfidf.transform(x_val.contents)\n",
    "print('文本特征：{}维'.format(len(word_names)))\n",
    "statistic_feature = featurenames.copy()\n",
    "print('其他特征：{}维'.format(len(statistic_feature)))\n",
    "featurenames.extend(word_names)\n",
    "from scipy.sparse import hstack\n",
    "X_train = hstack(((X_train_1), (X_train_2))).tocsc()\n",
    "X_val = hstack(((X_val_1), (X_val_2))).tocsc()\n",
    "\n",
    "print('特征数量',X_train.shape[1])\n",
    "print('----------------------------------------------')"
   ]
  },
  {
   "cell_type": "markdown",
   "metadata": {},
   "source": [
    "基于特征选择来降维"
   ]
  },
  {
   "cell_type": "code",
   "execution_count": 51,
   "metadata": {},
   "outputs": [
    {
     "name": "stdout",
     "output_type": "stream",
     "text": [
      "采用xgboost筛选文本特征...\n",
      "training...\n",
      "[18:58:59] WARNING: C:\\Users\\Administrator\\workspace\\xgboost-win64_release_1.1.0\\src\\learner.cc:480: \n",
      "Parameters: { silent } might not be used.\n",
      "\n",
      "  This may not be accurate due to some parameters are only used in language bindings but\n",
      "  passed down to XGBoost core.  Or some parameters are not used but slip through this\n",
      "  verification. Please open an issue if you find above cases.\n",
      "\n",
      "\n",
      "[0]\ttrain-error:0.00627\n",
      "Will train until train-error hasn't improved in 100 rounds.\n",
      "[100]\ttrain-error:0.00603\n",
      "[200]\ttrain-error:0.00578\n",
      "[300]\ttrain-error:0.00559\n",
      "[400]\ttrain-error:0.00534\n",
      "[500]\ttrain-error:0.00516\n",
      "[600]\ttrain-error:0.00500\n",
      "[700]\ttrain-error:0.00481\n",
      "[800]\ttrain-error:0.00463\n",
      "[900]\ttrain-error:0.00446\n",
      "[1000]\ttrain-error:0.00421\n",
      "[1100]\ttrain-error:0.00401\n",
      "[1200]\ttrain-error:0.00384\n",
      "[1300]\ttrain-error:0.00365\n",
      "[1400]\ttrain-error:0.00347\n",
      "[1500]\ttrain-error:0.00332\n",
      "[1600]\ttrain-error:0.00314\n",
      "[1700]\ttrain-error:0.00298\n",
      "[1800]\ttrain-error:0.00284\n",
      "[1900]\ttrain-error:0.00269\n",
      "[2000]\ttrain-error:0.00256\n",
      "[2100]\ttrain-error:0.00245\n",
      "[2200]\ttrain-error:0.00235\n",
      "[2300]\ttrain-error:0.00226\n",
      "[2400]\ttrain-error:0.00214\n",
      "[2499]\ttrain-error:0.00210\n",
      "训练完毕。\n",
      "留下文本特征数量： 351\n"
     ]
    }
   ],
   "source": [
    "print('采用xgboost筛选文本特征...')\n",
    "print('training...')\n",
    "dtrain = xgb.DMatrix(X_train, y_train, feature_names=featurenames)\n",
    "dval = xgb.DMatrix(X_val, feature_names=featurenames)\n",
    "\n",
    "params = {\n",
    "    \"objective\": \"binary:logistic\",\n",
    "    \"booster\": \"gbtree\",\n",
    "    \"eval_metric\": \"error\",\n",
    "    \"eta\": 0.1,\n",
    "    'max_depth':12,\n",
    "    'subsample':0.8,\n",
    "    'min_child_weight':3,\n",
    "    'colsample_bytree':1,\n",
    "    'gamma':0.2,\n",
    "    \"lambda\":300,\n",
    "    \"silent\":1,\n",
    "    'seed':1,\n",
    "    'n_jobs':-1,\n",
    "    'nthread':8,\n",
    "}\n",
    "watchlist = [(dtrain, 'train')]\n",
    "model = xgb.train(params, dtrain, 2500, evals=watchlist, early_stopping_rounds=100, verbose_eval=100)\n",
    "\n",
    "print('训练完毕。')\n",
    "temp = pd.DataFrame.from_dict(model.get_fscore(), orient='index').reset_index()\n",
    "temp.columns = ['feature', 'score']\n",
    "temp.sort_values(['score'], axis=0, ascending=False, inplace=True)\n",
    "temp.reset_index(drop=True, inplace=True)\n",
    "\n",
    "print('留下文本特征数量：', len(temp.loc[~temp.feature.isin(statistic_feature)]))\n",
    "\n",
    "selected_words = list(temp.loc[~temp.feature.isin(statistic_feature)].feature.values)\n",
    "pickle.dump(selected_words, open('../myfeatures/single_select_words.pkl', 'wb'))"
   ]
  },
  {
   "cell_type": "markdown",
   "metadata": {},
   "source": [
    "## 构建Xgboost模型"
   ]
  },
  {
   "cell_type": "markdown",
   "metadata": {},
   "source": [
    "<img src=\"../img/10.png\" style=\"width:1000px;height:500px;float:left\">"
   ]
  },
  {
   "cell_type": "markdown",
   "metadata": {},
   "source": [
    "读取特征"
   ]
  },
  {
   "cell_type": "code",
   "execution_count": null,
   "metadata": {},
   "outputs": [],
   "source": [
    "import pickle\n",
    "import pandas as pd\n",
    "import numpy as np\n",
    "import os\n",
    "from scipy.sparse import csc_matrix\n",
    "from sklearn.feature_extraction.text import TfidfVectorizer\n",
    "import xgboost as xgb\n",
    "\n",
    "def threshold(y, t):\n",
    "    z = np.copy(y)\n",
    "    z[z>=t] = 1\n",
    "    z[z<t] = 0\n",
    "    return z\n",
    "print('training model...')\n",
    "df = pickle.load(open('../myfeatures/statistical_features_1.pkl', 'rb'))\n",
    "text = pickle.load(open('../myfeatures/text_features_1.pkl', 'rb'))\n",
    "df = df.merge(text, on='CUST_NO', how='left')\n",
    "\n",
    "train = df.loc[df.label != -1]\n",
    "test = df.loc[df.label == -1]\n",
    "print('训练集：',train.shape[0])\n",
    "print('正样本:',train.loc[train.label == 1].shape[0])\n",
    "print('负样本:',train.loc[train.label == 0].shape[0])\n",
    "print('-----------------------')\n",
    "print('测试集：',test.shape[0])\n",
    "print('-----------------------')\n"
   ]
  },
  {
   "cell_type": "markdown",
   "metadata": {},
   "source": [
    "基于选择的词来创建tf-idf，构建模型输入数据"
   ]
  },
  {
   "cell_type": "code",
   "execution_count": null,
   "metadata": {},
   "outputs": [],
   "source": [
    "x_data = train.copy()\n",
    "x_val = test.copy()\n",
    "x_data = x_data.sample(frac=1, random_state=1).reset_index(drop=True)\n",
    "#################\n",
    "#################\n",
    "###   input   ###\n",
    "#################\n",
    "#################\n",
    "delete_columns = ['CUST_NO', 'label', 'contents']\n",
    "\n",
    "X_train_1 = csc_matrix(x_data.drop(delete_columns, axis=1).values)\n",
    "X_val_1 = csc_matrix(x_val.drop(delete_columns, axis=1).values)\n",
    "\n",
    "y_train = x_data.label.values\n",
    "y_val = x_val.label.values\n",
    "featurenames = list(x_data.drop(delete_columns, axis=1).columns)\n",
    "print('tfidf...')\n",
    "select_words = pickle.load(open('../myfeatures/single_select_words.pkl', 'rb'))\n",
    "tfidf = TfidfVectorizer(ngram_range=(1,2), min_df=3, use_idf=False, smooth_idf=False, sublinear_tf=True, vocabulary=select_words)\n",
    "tfidf.fit(x_data.contents)\n",
    "word_names = tfidf.get_feature_names()\n",
    "X_train_2 = tfidf.transform(x_data.contents)\n",
    "X_val_2 = tfidf.transform(x_val.contents)\n",
    "print('文本特征：{}维'.format(len(word_names)))\n",
    "statistic_feature = featurenames.copy()\n",
    "print('其他特征：{}维'.format(len(statistic_feature)))\n",
    "featurenames.extend(word_names)\n",
    "from scipy.sparse import hstack\n",
    "X_train = hstack(((X_train_1), (X_train_2))).tocsc()\n",
    "X_val = hstack(((X_val_1), (X_val_2))).tocsc()\n",
    "\n",
    "print('特征数量',X_train.shape[1])\n",
    "print('----------------------------------------------')"
   ]
  },
  {
   "cell_type": "markdown",
   "metadata": {},
   "source": [
    "bagging策略，不同随机方式3次来取最终结果"
   ]
  },
  {
   "cell_type": "code",
   "execution_count": null,
   "metadata": {},
   "outputs": [],
   "source": [
    "print('start 3 xgboost!')\n",
    "bagging = []\n",
    "for i in range(1,4):\n",
    "    print('group:',i)\n",
    "    ##############\n",
    "    #  xgboost\n",
    "    ##############\n",
    "    print('training...')\n",
    "    dtrain = xgb.DMatrix(X_train, y_train, feature_names=featurenames)\n",
    "    dval = xgb.DMatrix(X_val, feature_names=featurenames)\n",
    "\n",
    "    params = {\n",
    "        \"objective\": \"binary:logistic\",\n",
    "        \"booster\": \"gbtree\",\n",
    "        \"eval_metric\": \"error\",\n",
    "        \"eta\": 0.1,\n",
    "        'max_depth':14,\n",
    "        'subsample':0.8,\n",
    "        'min_child_weight':2,\n",
    "        'colsample_bytree':1,\n",
    "        'gamma':0.2,\n",
    "        \"lambda\":300,\n",
    "        'silent':1,\n",
    "        \"seed\":i,\n",
    "    }\n",
    "    watchlist = [(dtrain, 'train')]\n",
    "\n",
    "    model = xgb.train(params, dtrain, 2000, evals=watchlist,\n",
    "                    early_stopping_rounds=50, verbose_eval=100)\n",
    "\n",
    "    print('predicting...')\n",
    "    y_prob = model.predict(dval, ntree_limit=model.best_ntree_limit)\n",
    "    bagging.append(y_prob)\n",
    "    print('---------------------------------------------')\n",
    "print('gl hf !')\n",
    "\n",
    "print('voting...')\n",
    "t = 0.5\n",
    "pres = []\n",
    "for i in bagging:\n",
    "    pres.append(threshold(i, t))\n",
    "    \n",
    "# vote\n",
    "pres = np.array(pres).T.astype('int64')\n",
    "result = []\n",
    "for line in pres:\n",
    "    result.append(np.bincount(line).argmax())\n",
    "    \n",
    "myout = test[['CUST_NO']].copy()\n",
    "myout['pre'] = result\n",
    "print('output!')\n",
    "if not os.path.isdir('../result'):\n",
    "    os.makedirs('../result')\n",
    "myout.loc[myout.pre == 1, 'CUST_NO'].to_csv('../result/A.csv', index=False)"
   ]
  },
  {
   "cell_type": "code",
   "execution_count": null,
   "metadata": {
    "collapsed": true,
    "jupyter": {
     "outputs_hidden": true
    }
   },
   "outputs": [],
   "source": []
  }
 ],
 "metadata": {
  "kernelspec": {
   "display_name": "Python 3",
   "language": "python",
   "name": "python3"
  },
  "language_info": {
   "codemirror_mode": {
    "name": "ipython",
    "version": 3
   },
   "file_extension": ".py",
   "mimetype": "text/x-python",
   "name": "python",
   "nbconvert_exporter": "python",
   "pygments_lexer": "ipython3",
   "version": "3.7.7"
  }
 },
 "nbformat": 4,
 "nbformat_minor": 4
}
